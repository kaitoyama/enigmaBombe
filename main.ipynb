{
  "nbformat": 4,
  "nbformat_minor": 0,
  "metadata": {
    "colab": {
      "provenance": [],
      "authorship_tag": "ABX9TyMm+SENZ2pD3E4OlUpXrGzx",
      "include_colab_link": true
    },
    "kernelspec": {
      "name": "python3",
      "display_name": "Python 3"
    },
    "language_info": {
      "name": "python"
    }
  },
  "cells": [
    {
      "cell_type": "markdown",
      "metadata": {
        "id": "view-in-github",
        "colab_type": "text"
      },
      "source": [
        "<a href=\"https://colab.research.google.com/github/kaitoyama/enigmaBombe/blob/main/main.ipynb\" target=\"_parent\"><img src=\"https://colab.research.google.com/assets/colab-badge.svg\" alt=\"Open In Colab\"/></a>"
      ]
    },
    {
      "cell_type": "code",
      "source": [
        "!pip install -U networkx\n",
        "!apt install graphviz libgraphviz-dev\n",
        "!pip install pygraphviz"
      ],
      "metadata": {
        "id": "qKVl9frnKWF2"
      },
      "execution_count": null,
      "outputs": []
    },
    {
      "cell_type": "code",
      "source": [
        "import networkx as nx\n",
        "import itertools\n",
        "import tqdm"
      ],
      "metadata": {
        "id": "sKTHoMO6KbAZ"
      },
      "execution_count": 2,
      "outputs": []
    },
    {
      "cell_type": "code",
      "source": [
        "roter_1=[\"R\",['E', 'K', 'M', 'F', 'L', 'G', 'D', 'Q', 'V', 'Z', 'N', 'T', 'O', 'W', 'Y', 'H', 'X', 'U', 'S', 'P', 'A', 'I', 'B', 'R', 'C', 'J']]\n",
        "roter_2=[\"F\",['A', 'J', 'D', 'K', 'S', 'I', 'R', 'U', 'X', 'B', 'L', 'H', 'W', 'T', 'M', 'C', 'Q', 'G', 'Z', 'N', 'P', 'Y', 'F', 'V', 'O', 'E']]\n",
        "roter_3=[\"W\",['B', 'D', 'F', 'H', 'J', 'L', 'C', 'P', 'R', 'T', 'X', 'V', 'Z', 'N', 'Y', 'E', 'I', 'W', 'G', 'A', 'K', 'M', 'U', 'S', 'Q', 'O']]\n",
        "UKW_B=['Y', 'R', 'U', 'H', 'Q', 'S', 'L', 'D', 'P', 'X', 'N', 'G', 'O', 'K', 'M', 'I', 'E', 'B', 'F', 'Z', 'C', 'W', 'V', 'J', 'A', 'T']"
      ],
      "metadata": {
        "id": "EYfTBRWVYADU"
      },
      "execution_count": 3,
      "outputs": []
    },
    {
      "cell_type": "code",
      "source": [
        "def alphabet2num(alphabet: str):\n",
        "    upperAlpha=alphabet.upper()\n",
        "    return(ord(upperAlpha)-65)\n",
        "\n",
        "def num2alphabet(num: int):\n",
        "    return(chr(num+65))\n",
        "\n",
        "def num2alpha(num: int):\n",
        "    if num<=26:\n",
        "        return chr(64+num)\n",
        "    elif num%26==0:\n",
        "        return num2alpha(num//26-1)+chr(90)\n",
        "    else:\n",
        "        return num2alpha(num//26)+chr(64+num%26)"
      ],
      "metadata": {
        "id": "lDTBOQ2ZZ1IT"
      },
      "execution_count": 4,
      "outputs": []
    },
    {
      "cell_type": "code",
      "source": [
        "def justify(order: int):\n",
        "    if 0<=order<26:\n",
        "        return order\n",
        "    elif order<0:\n",
        "        while order<0:\n",
        "            order+=26\n",
        "        return order\n",
        "    else:\n",
        "        while 25<order:\n",
        "            order-=26\n",
        "        return order"
      ],
      "metadata": {
        "id": "5Z9fZaoFj5es"
      },
      "execution_count": 5,
      "outputs": []
    },
    {
      "cell_type": "code",
      "source": [
        "def enigmaEncode(input: str,roter: list,position: list,Ringstellung: list,plugboard={},offset=0):\n",
        "    if len(plugboard)!=0:\n",
        "        for i in plugboard.keys():\n",
        "            input=input.replace(plugboard[i],\"-\")\n",
        "            input=input.replace(i,plugboard[i])\n",
        "            input=input.replace(\"-\",i)\n",
        "    enc=[]\n",
        "    secondTurn=0\n",
        "    thirdTurn=0\n",
        "    if offset>0:\n",
        "        for i in range(offset):\n",
        "            firstDif=justify(alphabet2num(position[0])+alphabet2num(Ringstellung[0])+i)\n",
        "            if justify(alphabet2num(position[0])+i)==alphabet2num(roter[0][0]):\n",
        "                secondTurn+=1\n",
        "            secondDif=justify(alphabet2num(position[1])+alphabet2num(Ringstellung[1])+secondTurn)\n",
        "            if justify(alphabet2num(position[1])+secondTurn)==alphabet2num(roter[1][0]):\n",
        "                thirdTurn+=1\n",
        "    elif offset<0:\n",
        "        for i in range(abs(offset)):\n",
        "            firstDif=justify(alphabet2num(position[0])+alphabet2num(Ringstellung[0])-i)\n",
        "            if justify(alphabet2num(position[0])-i)==alphabet2num(roter[0][0]):\n",
        "                secondTurn-=1\n",
        "            secondDif=justify(alphabet2num(position[1])+alphabet2num(Ringstellung[1])+secondTurn)\n",
        "            if justify(alphabet2num(position[1])+secondTurn)==alphabet2num(roter[1][0]):\n",
        "                thirdTurn-=1\n",
        "    for i in range(len(input)):\n",
        "        current=input[i]\n",
        "        i+=1\n",
        "        firstDif=justify(alphabet2num(position[0])+alphabet2num(Ringstellung[0])+offset+i)\n",
        "        if justify(alphabet2num(position[0])+offset+i)==alphabet2num(roter[0][0]):\n",
        "            secondTurn+=1\n",
        "        secondDif=justify(alphabet2num(position[1])+alphabet2num(Ringstellung[1])+secondTurn)\n",
        "        if justify(alphabet2num(position[1])+secondTurn)==alphabet2num(roter[1][0]):\n",
        "            thirdTurn+=1       \n",
        "        thirdDif=justify(alphabet2num(position[2])+alphabet2num(Ringstellung[2])+thirdTurn)\n",
        "        current=roter[0][1][justify(alphabet2num(current)+firstDif)]\n",
        "        current=roter[1][1][justify(alphabet2num(current)+secondDif)]\n",
        "        current=roter[2][1][justify(alphabet2num(current)+thirdDif)]\n",
        "        current=UKW_B[alphabet2num(current)]\n",
        "        current=num2alphabet(justify(roter[2][1].index(current)-thirdDif))\n",
        "        current=num2alphabet(justify(roter[1][1].index(current)-secondDif))\n",
        "        current=num2alphabet(justify(roter[0][1].index(current)-firstDif))\n",
        "        enc.append(current)\n",
        "    return(\"\".join(enc))"
      ],
      "metadata": {
        "id": "QDJDGPLVbjrz"
      },
      "execution_count": 6,
      "outputs": []
    },
    {
      "cell_type": "code",
      "source": [
        "enigmaEncode(\"CONSEQUATINVIDUNTREBUMLUPTATUMVULPUTATESITLOREMREBUMFACILISISSANCTUSLABORESEALOREMTEMPORLOREMKASDDOLORDOLORSEDCONSECTETUER\",[roter_2,roter_1,roter_3],[\"A\",\"B\",\"J\"],[\"A\",\"A\",\"B\"],{\"a\":\"d\",\"c\":\"r\",\"k\":\"l\"})"
      ],
      "metadata": {
        "id": "9GZUauIruZov"
      },
      "execution_count": null,
      "outputs": []
    },
    {
      "cell_type": "code",
      "execution_count": 8,
      "metadata": {
        "id": "uvgwhtJsCVyn"
      },
      "outputs": [],
      "source": [
        "enc = \"LLKWYIQNPPRHVZOTJLIOLZYBXHWGYBWVWJJIJVKKCAEGGMKSDMQIXTEEODZLMTCUVIZZMNHVCYLFHNHOTPNUPZYFIYEKAUNIANRBYDRUIALPAZYYXUJNJPCICN\"#@param {type:\"string\"}\n",
        "plain=\"CONSEQUATINVIDUNTREBUMLUPTATUMVULPUTATESITLOREMREBUMFACILISISSANCTUSLABORESEALOREMTEMPORLOREMKASDDOLORDOLORSEDCONSECTETUER\"#@param{type:\"string\"}"
      ]
    },
    {
      "cell_type": "code",
      "source": [
        "from IPython.display import SVG, display\n",
        "\n",
        "G = nx.DiGraph()\n",
        "crib_list=[plain,enc]\n",
        "for i in range(len(crib_list[0])):\n",
        "    nx.add_path(G, [crib_list[0][i],crib_list[1][i]],weight=i+1)\n",
        "\n",
        "svg = SVG(nx.nx_agraph.to_agraph(G).draw(prog='fdp', format='svg'))\n",
        "display(svg)"
      ],
      "metadata": {
        "id": "FyYf6S9JuxZk"
      },
      "execution_count": null,
      "outputs": []
    },
    {
      "cell_type": "code",
      "source": [
        "cycleList=sorted(nx.simple_cycles(G))"
      ],
      "metadata": {
        "id": "CkK22muXKizo"
      },
      "execution_count": 10,
      "outputs": []
    },
    {
      "cell_type": "code",
      "source": [
        "checker=0\n",
        "for i in range(len(cycleList)):\n",
        "    if len(cycleList[checker])<len(cycleList[i]):\n",
        "        checker=i\n",
        "maxCycle=cycleList[checker]"
      ],
      "metadata": {
        "id": "34hHHK-VO2_t"
      },
      "execution_count": 11,
      "outputs": []
    },
    {
      "cell_type": "code",
      "source": [
        "maxCycle"
      ],
      "metadata": {
        "id": "FUIWbkanUE_T"
      },
      "execution_count": null,
      "outputs": []
    },
    {
      "cell_type": "code",
      "source": [
        "weightList=[]\n",
        "for i in range(len(maxCycle)):\n",
        "    target=sorted(G.edges(maxCycle[i],data=True))\n",
        "    if i!=len(maxCycle)-1:\n",
        "        for j in range(len(target)):\n",
        "            if target[j][1]==maxCycle[i+1]:\n",
        "                break\n",
        "        print(maxCycle[i],maxCycle[i+1],target[j][2][\"weight\"])\n",
        "        weightList.append(target[j][2][\"weight\"])\n",
        "    else:\n",
        "        for j in range(len(target)):\n",
        "            if target[j][1]==maxCycle[0]:\n",
        "                break\n",
        "        print(maxCycle[i],maxCycle[0],target[j][2][\"weight\"])\n",
        "        weightList.append(target[j][2][\"weight\"])"
      ],
      "metadata": {
        "id": "W_a9vzCuT773"
      },
      "execution_count": null,
      "outputs": []
    },
    {
      "cell_type": "code",
      "source": [
        "list(itertools.permutations([1, 2, 3]))"
      ],
      "metadata": {
        "id": "Gf3GGWxizPkT"
      },
      "execution_count": null,
      "outputs": []
    },
    {
      "cell_type": "code",
      "source": [
        "roterSetList=list(itertools.permutations([roter_1, roter_2, roter_3]))\n",
        "minWeight=min(weightList)\n",
        "relativeWeight = list(map(lambda x: x-minWeight, weightList))"
      ],
      "metadata": {
        "id": "CTi9S5ibMqcx"
      },
      "execution_count": 15,
      "outputs": []
    },
    {
      "cell_type": "code",
      "source": [
        "relativeWeight"
      ],
      "metadata": {
        "id": "7X1VQ4q_2WDs"
      },
      "execution_count": null,
      "outputs": []
    },
    {
      "cell_type": "code",
      "source": [
        "def bombe(i):\n",
        "    bang=0\n",
        "    offset=26*27+1\n",
        "    cycleLength=len(maxCycle)\n",
        "    roter=roterSetList[i]\n",
        "    for h in tqdm.tqdm(range(17576)):\n",
        "        counter=offset+h\n",
        "        position=list(num2alpha(counter))\n",
        "        for j in range(17576):\n",
        "            bang=1\n",
        "            ring=list(num2alpha(offset+j))\n",
        "            for k in range(cycleLength):\n",
        "                if k!=cycleLength-1:\n",
        "                    if enigmaEncode(maxCycle[k],roter,position,ring,offset=relativeWeight[k])!=maxCycle[k+1]:\n",
        "                        bang*=0\n",
        "                else:\n",
        "                    if enigmaEncode(maxCycle[k],roter,position,ring,offset=relativeWeight[k])!=maxCycle[0]:\n",
        "                        bang*=0\n",
        "                if bang==0:\n",
        "                    break\n",
        "            if bang==1:\n",
        "                print(\"Bang!!!\",i,position,ring)\n",
        "                bang=0\n",
        "                return(i,position,ring)"
      ],
      "metadata": {
        "id": "_wH7JqtWSvMM"
      },
      "execution_count": 17,
      "outputs": []
    },
    {
      "cell_type": "code",
      "source": [
        "i,position,ring=bombe(2)"
      ],
      "metadata": {
        "id": "lvLZtSL5rxXp"
      },
      "execution_count": null,
      "outputs": []
    },
    {
      "cell_type": "code",
      "source": [
        "enigmaEncode(enc,roterSetList[i],position,ring,-minWeight+1)"
      ],
      "metadata": {
        "id": "5YzDpAY2hIW-"
      },
      "execution_count": null,
      "outputs": []
    },
    {
      "cell_type": "code",
      "source": [],
      "metadata": {
        "id": "D5yDA9MS8e4F"
      },
      "execution_count": null,
      "outputs": []
    }
  ]
}