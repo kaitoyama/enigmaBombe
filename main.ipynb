{
  "nbformat": 4,
  "nbformat_minor": 0,
  "metadata": {
    "colab": {
      "provenance": [],
      "authorship_tag": "ABX9TyN87UqRki9edddOTgdI5MuG",
      "include_colab_link": true
    },
    "kernelspec": {
      "name": "python3",
      "display_name": "Python 3"
    },
    "language_info": {
      "name": "python"
    }
  },
  "cells": [
    {
      "cell_type": "markdown",
      "metadata": {
        "id": "view-in-github",
        "colab_type": "text"
      },
      "source": [
        "<a href=\"https://colab.research.google.com/github/kaitoyama/enigmaBombe/blob/main/main.ipynb\" target=\"_parent\"><img src=\"https://colab.research.google.com/assets/colab-badge.svg\" alt=\"Open In Colab\"/></a>"
      ]
    },
    {
      "cell_type": "code",
      "source": [
        "!pip install -U networkx\n",
        "!apt install graphviz libgraphviz-dev\n",
        "!pip install pygraphviz"
      ],
      "metadata": {
        "colab": {
          "base_uri": "https://localhost:8080/"
        },
        "id": "qKVl9frnKWF2",
        "outputId": "d530c158-1139-4fa0-9767-63603052f083"
      },
      "execution_count": 1,
      "outputs": [
        {
          "output_type": "stream",
          "name": "stdout",
          "text": [
            "Looking in indexes: https://pypi.org/simple, https://us-python.pkg.dev/colab-wheels/public/simple/\n",
            "Requirement already satisfied: networkx in /usr/local/lib/python3.7/dist-packages (2.6.3)\n",
            "Reading package lists... Done\n",
            "Building dependency tree       \n",
            "Reading state information... Done\n",
            "graphviz is already the newest version (2.40.1-2).\n",
            "The following package was automatically installed and is no longer required:\n",
            "  libnvidia-common-460\n",
            "Use 'apt autoremove' to remove it.\n",
            "The following additional packages will be installed:\n",
            "  libgail-common libgail18 libgtk2.0-0 libgtk2.0-bin libgtk2.0-common\n",
            "  libgvc6-plugins-gtk libxdot4\n",
            "Suggested packages:\n",
            "  gvfs\n",
            "The following NEW packages will be installed:\n",
            "  libgail-common libgail18 libgraphviz-dev libgtk2.0-0 libgtk2.0-bin\n",
            "  libgtk2.0-common libgvc6-plugins-gtk libxdot4\n",
            "0 upgraded, 8 newly installed, 0 to remove and 20 not upgraded.\n",
            "Need to get 2,120 kB of archives.\n",
            "After this operation, 7,128 kB of additional disk space will be used.\n",
            "Get:1 http://archive.ubuntu.com/ubuntu bionic/main amd64 libgtk2.0-common all 2.24.32-1ubuntu1 [125 kB]\n",
            "Get:2 http://archive.ubuntu.com/ubuntu bionic/main amd64 libgtk2.0-0 amd64 2.24.32-1ubuntu1 [1,769 kB]\n",
            "Get:3 http://archive.ubuntu.com/ubuntu bionic/main amd64 libgail18 amd64 2.24.32-1ubuntu1 [14.2 kB]\n",
            "Get:4 http://archive.ubuntu.com/ubuntu bionic/main amd64 libgail-common amd64 2.24.32-1ubuntu1 [112 kB]\n",
            "Get:5 http://archive.ubuntu.com/ubuntu bionic/universe amd64 libxdot4 amd64 2.40.1-2 [15.7 kB]\n",
            "Get:6 http://archive.ubuntu.com/ubuntu bionic/universe amd64 libgvc6-plugins-gtk amd64 2.40.1-2 [18.2 kB]\n",
            "Get:7 http://archive.ubuntu.com/ubuntu bionic/universe amd64 libgraphviz-dev amd64 2.40.1-2 [57.3 kB]\n",
            "Get:8 http://archive.ubuntu.com/ubuntu bionic/main amd64 libgtk2.0-bin amd64 2.24.32-1ubuntu1 [7,536 B]\n",
            "Fetched 2,120 kB in 1s (1,653 kB/s)\n",
            "Selecting previously unselected package libgtk2.0-common.\n",
            "(Reading database ... 155685 files and directories currently installed.)\n",
            "Preparing to unpack .../0-libgtk2.0-common_2.24.32-1ubuntu1_all.deb ...\n",
            "Unpacking libgtk2.0-common (2.24.32-1ubuntu1) ...\n",
            "Selecting previously unselected package libgtk2.0-0:amd64.\n",
            "Preparing to unpack .../1-libgtk2.0-0_2.24.32-1ubuntu1_amd64.deb ...\n",
            "Unpacking libgtk2.0-0:amd64 (2.24.32-1ubuntu1) ...\n",
            "Selecting previously unselected package libgail18:amd64.\n",
            "Preparing to unpack .../2-libgail18_2.24.32-1ubuntu1_amd64.deb ...\n",
            "Unpacking libgail18:amd64 (2.24.32-1ubuntu1) ...\n",
            "Selecting previously unselected package libgail-common:amd64.\n",
            "Preparing to unpack .../3-libgail-common_2.24.32-1ubuntu1_amd64.deb ...\n",
            "Unpacking libgail-common:amd64 (2.24.32-1ubuntu1) ...\n",
            "Selecting previously unselected package libxdot4.\n",
            "Preparing to unpack .../4-libxdot4_2.40.1-2_amd64.deb ...\n",
            "Unpacking libxdot4 (2.40.1-2) ...\n",
            "Selecting previously unselected package libgvc6-plugins-gtk.\n",
            "Preparing to unpack .../5-libgvc6-plugins-gtk_2.40.1-2_amd64.deb ...\n",
            "Unpacking libgvc6-plugins-gtk (2.40.1-2) ...\n",
            "Selecting previously unselected package libgraphviz-dev.\n",
            "Preparing to unpack .../6-libgraphviz-dev_2.40.1-2_amd64.deb ...\n",
            "Unpacking libgraphviz-dev (2.40.1-2) ...\n",
            "Selecting previously unselected package libgtk2.0-bin.\n",
            "Preparing to unpack .../7-libgtk2.0-bin_2.24.32-1ubuntu1_amd64.deb ...\n",
            "Unpacking libgtk2.0-bin (2.24.32-1ubuntu1) ...\n",
            "Setting up libgtk2.0-common (2.24.32-1ubuntu1) ...\n",
            "Setting up libxdot4 (2.40.1-2) ...\n",
            "Setting up libgtk2.0-0:amd64 (2.24.32-1ubuntu1) ...\n",
            "Setting up libgail18:amd64 (2.24.32-1ubuntu1) ...\n",
            "Setting up libgail-common:amd64 (2.24.32-1ubuntu1) ...\n",
            "Setting up libgvc6-plugins-gtk (2.40.1-2) ...\n",
            "Setting up libgraphviz-dev (2.40.1-2) ...\n",
            "Setting up libgtk2.0-bin (2.24.32-1ubuntu1) ...\n",
            "Processing triggers for man-db (2.8.3-2ubuntu0.1) ...\n",
            "Processing triggers for libc-bin (2.27-3ubuntu1.5) ...\n",
            "Looking in indexes: https://pypi.org/simple, https://us-python.pkg.dev/colab-wheels/public/simple/\n",
            "Collecting pygraphviz\n",
            "  Downloading pygraphviz-1.7.zip (118 kB)\n",
            "\u001b[K     |████████████████████████████████| 118 kB 3.7 MB/s \n",
            "\u001b[?25hBuilding wheels for collected packages: pygraphviz\n",
            "  Building wheel for pygraphviz (setup.py) ... \u001b[?25l\u001b[?25hdone\n",
            "  Created wheel for pygraphviz: filename=pygraphviz-1.7-cp37-cp37m-linux_x86_64.whl size=165741 sha256=581251fcceaffe6c453817faa5a616866f09827495b414a5d69cf02719291475\n",
            "  Stored in directory: /root/.cache/pip/wheels/8c/bc/0c/ac35392b72556e75107ff610cb31b313e8471918a6d280e34c\n",
            "Successfully built pygraphviz\n",
            "Installing collected packages: pygraphviz\n",
            "Successfully installed pygraphviz-1.7\n"
          ]
        }
      ]
    },
    {
      "cell_type": "code",
      "source": [
        "import networkx as nx\n",
        "import itertools\n",
        "import tqdm"
      ],
      "metadata": {
        "id": "sKTHoMO6KbAZ"
      },
      "execution_count": 2,
      "outputs": []
    },
    {
      "cell_type": "code",
      "source": [
        "roter_1=[\"R\",['E', 'K', 'M', 'F', 'L', 'G', 'D', 'Q', 'V', 'Z', 'N', 'T', 'O', 'W', 'Y', 'H', 'X', 'U', 'S', 'P', 'A', 'I', 'B', 'R', 'C', 'J']]\n",
        "roter_2=[\"F\",['A', 'J', 'D', 'K', 'S', 'I', 'R', 'U', 'X', 'B', 'L', 'H', 'W', 'T', 'M', 'C', 'Q', 'G', 'Z', 'N', 'P', 'Y', 'F', 'V', 'O', 'E']]\n",
        "roter_3=[\"W\",['B', 'D', 'F', 'H', 'J', 'L', 'C', 'P', 'R', 'T', 'X', 'V', 'Z', 'N', 'Y', 'E', 'I', 'W', 'G', 'A', 'K', 'M', 'U', 'S', 'Q', 'O']]\n",
        "UKW_B=['Y', 'R', 'U', 'H', 'Q', 'S', 'L', 'D', 'P', 'X', 'N', 'G', 'O', 'K', 'M', 'I', 'E', 'B', 'F', 'Z', 'C', 'W', 'V', 'J', 'A', 'T']"
      ],
      "metadata": {
        "id": "EYfTBRWVYADU"
      },
      "execution_count": 3,
      "outputs": []
    },
    {
      "cell_type": "code",
      "source": [
        "def alphabet2num(alphabet: str):\n",
        "    upperAlpha=alphabet.upper()\n",
        "    return(ord(upperAlpha)-65)\n",
        "\n",
        "def num2alphabet(num: int):\n",
        "    return(chr(num+65))\n",
        "\n",
        "def num2alpha(num: int):\n",
        "    if num<=26:\n",
        "        return chr(64+num)\n",
        "    elif num%26==0:\n",
        "        return num2alpha(num//26-1)+chr(90)\n",
        "    else:\n",
        "        return num2alpha(num//26)+chr(64+num%26)"
      ],
      "metadata": {
        "id": "lDTBOQ2ZZ1IT"
      },
      "execution_count": 4,
      "outputs": []
    },
    {
      "cell_type": "code",
      "source": [
        "def justify(order: int):\n",
        "    if 0<=order<26:\n",
        "        return order\n",
        "    elif order<0:\n",
        "        while order<0:\n",
        "            order+=26\n",
        "        return order\n",
        "    else:\n",
        "        while 25<order:\n",
        "            order-=26\n",
        "        return order"
      ],
      "metadata": {
        "id": "5Z9fZaoFj5es"
      },
      "execution_count": 5,
      "outputs": []
    },
    {
      "cell_type": "code",
      "source": [
        "def enigmaEncode(input: str,roter: list,position: list,Ringstellung: list,offset=0):\n",
        "    enc=[]\n",
        "    secondTurn=0\n",
        "    thirdTurn=0\n",
        "    if offset>0:\n",
        "        for i in range(offset):\n",
        "            firstDif=justify(alphabet2num(position[0])+alphabet2num(Ringstellung[0])+i)\n",
        "            if justify(alphabet2num(position[0])+i)==alphabet2num(roter[0][0]):\n",
        "                secondTurn+=1\n",
        "            secondDif=justify(alphabet2num(position[1])+alphabet2num(Ringstellung[1])+secondTurn)\n",
        "            if justify(alphabet2num(position[1])+secondTurn)==alphabet2num(roter[1][0]):\n",
        "                thirdTurn+=1\n",
        "    elif offset<0:\n",
        "        for i in range(abs(offset)):\n",
        "            firstDif=justify(alphabet2num(position[0])+alphabet2num(Ringstellung[0])-i)\n",
        "            if justify(alphabet2num(position[0])-i)==alphabet2num(roter[0][0]):\n",
        "                secondTurn-=1\n",
        "            secondDif=justify(alphabet2num(position[1])+alphabet2num(Ringstellung[1])+secondTurn)\n",
        "            if justify(alphabet2num(position[1])+secondTurn)==alphabet2num(roter[1][0]):\n",
        "                thirdTurn-=1\n",
        "    for i in range(len(input)):\n",
        "        current=input[i]\n",
        "        i+=1\n",
        "        firstDif=justify(alphabet2num(position[0])+alphabet2num(Ringstellung[0])+offset+i)\n",
        "        if justify(alphabet2num(position[0])+offset+i)==alphabet2num(roter[0][0]):\n",
        "            secondTurn+=1\n",
        "        secondDif=justify(alphabet2num(position[1])+alphabet2num(Ringstellung[1])+secondTurn)\n",
        "        if justify(alphabet2num(position[1])+secondTurn)==alphabet2num(roter[1][0]):\n",
        "            thirdTurn+=1       \n",
        "        thirdDif=justify(alphabet2num(position[2])+alphabet2num(Ringstellung[2])+thirdTurn)\n",
        "        current=roter[0][1][justify(alphabet2num(current)+firstDif)]\n",
        "        current=roter[1][1][justify(alphabet2num(current)+secondDif)]\n",
        "        current=roter[2][1][justify(alphabet2num(current)+thirdDif)]\n",
        "        current=UKW_B[alphabet2num(current)]\n",
        "        current=num2alphabet(justify(roter[2][1].index(current)-thirdDif))\n",
        "        current=num2alphabet(justify(roter[1][1].index(current)-secondDif))\n",
        "        current=num2alphabet(justify(roter[0][1].index(current)-firstDif))\n",
        "        enc.append(current)\n",
        "    return(\"\".join(enc))"
      ],
      "metadata": {
        "id": "QDJDGPLVbjrz"
      },
      "execution_count": 6,
      "outputs": []
    },
    {
      "cell_type": "code",
      "source": [
        "enigmaEncode(\"CONSEQUATINVIDUNTREBUMLUPTATUMVULPUTATESITLOREMREBUMFACILISISSANCTUSLABORESEALOREMTEMPORLOREMKASDDOLORDOLORSEDCONSECTETUER\",[roter_2,roter_1,roter_3],[\"J\",\"A\",\"J\"],[\"A\",\"A\",\"B\"])"
      ],
      "metadata": {
        "id": "9GZUauIruZov",
        "colab": {
          "base_uri": "https://localhost:8080/",
          "height": 35
        },
        "outputId": "1c7b6c51-02bb-4fb6-aba6-7686c73918a9"
      },
      "execution_count": 49,
      "outputs": [
        {
          "output_type": "execute_result",
          "data": {
            "text/plain": [
              "'KCBKMISSGCMBHVCVPZFAHONZQVFRPHAZQKLKFOANDWHJPIJJUOQZWBKVEMFBITKAGIBOMWHKELANECWKXXRAFHGGNVSDBRBOFVZOUKFDRVQFRQPBAUXRMYARKE'"
            ],
            "application/vnd.google.colaboratory.intrinsic+json": {
              "type": "string"
            }
          },
          "metadata": {},
          "execution_count": 49
        }
      ]
    },
    {
      "cell_type": "code",
      "execution_count": 50,
      "metadata": {
        "id": "uvgwhtJsCVyn"
      },
      "outputs": [],
      "source": [
        "enc = \"KCBKMISSGCMBHVCVPZFAHONZQVFRPHAZQKLKFOANDWHJPIJJUOQZWBKVEMFBITKAGIBOMWHKELANECWKXXRAFHGGNVSDBRBOFVZOUKFDRVQFRQPBAUXRMYARKE\"#@param {type:\"string\"}\n",
        "plain=\"CONSEQUATINVIDUNTREBUMLUPTATUMVULPUTATESITLOREMREBUMFACILISISSANCTUSLABORESEALOREMTEMPORLOREMKASDDOLORDOLORSEDCONSECTETUER\"#@param{type:\"string\"}"
      ]
    },
    {
      "cell_type": "code",
      "source": [
        "from IPython.display import SVG, display\n",
        "\n",
        "G = nx.DiGraph()\n",
        "crib_list=[plain,enc]\n",
        "for i in range(len(crib_list[0])):\n",
        "    nx.add_path(G, [crib_list[0][i],crib_list[1][i]],weight=i+1)\n",
        "\n",
        "svg = SVG(nx.nx_agraph.to_agraph(G).draw(prog='fdp', format='svg'))\n",
        "display(svg)"
      ],
      "metadata": {
        "id": "FyYf6S9JuxZk",
        "colab": {
          "base_uri": "https://localhost:8080/",
          "height": 728
        },
        "outputId": "0f100a2f-5c25-4cae-fb88-64f295f18c6a"
      },
      "execution_count": 51,
      "outputs": [
        {
          "output_type": "display_data",
          "data": {
            "text/plain": [
              "<IPython.core.display.SVG object>"
            ],
            "image/svg+xml": "<svg height=\"530pt\" viewBox=\"0.00 0.00 676.00 530.00\" width=\"676pt\" xmlns=\"http://www.w3.org/2000/svg\" xmlns:xlink=\"http://www.w3.org/1999/xlink\">\n<g class=\"graph\" id=\"graph0\" transform=\"scale(1 1) rotate(0) translate(4 526)\">\n<polygon fill=\"#ffffff\" points=\"-4,4 -4,-526 672,-526 672,4 -4,4\" stroke=\"transparent\"/>\n<!-- C -->\n<g class=\"node\" id=\"node1\">\n<title>C</title>\n<ellipse cx=\"592.4\" cy=\"-226.8313\" fill=\"none\" rx=\"27\" ry=\"18\" stroke=\"#000000\"/>\n<text fill=\"#000000\" font-family=\"Times,serif\" font-size=\"14.00\" text-anchor=\"middle\" x=\"592.4\" y=\"-223.1313\">C</text>\n</g>\n<!-- K -->\n<g class=\"node\" id=\"node2\">\n<title>K</title>\n<ellipse cx=\"446.3025\" cy=\"-344.0346\" fill=\"none\" rx=\"27\" ry=\"18\" stroke=\"#000000\"/>\n<text fill=\"#000000\" font-family=\"Times,serif\" font-size=\"14.00\" text-anchor=\"middle\" x=\"446.3025\" y=\"-340.3346\">K</text>\n</g>\n<!-- C&#45;&gt;K -->\n<g class=\"edge\" id=\"edge1\">\n<title>C-&gt;K</title>\n<path d=\"M575.067,-240.7363C549.3656,-261.3546 501.0091,-300.1475 471.425,-323.8807\" fill=\"none\" stroke=\"#000000\"/>\n<polygon fill=\"#000000\" points=\"469.223,-321.1601 463.613,-330.1477 473.6033,-326.6202 469.223,-321.1601\" stroke=\"#000000\"/>\n</g>\n<!-- G -->\n<g class=\"node\" id=\"node3\">\n<title>G</title>\n<ellipse cx=\"640.8676\" cy=\"-376.6516\" fill=\"none\" rx=\"27\" ry=\"18\" stroke=\"#000000\"/>\n<text fill=\"#000000\" font-family=\"Times,serif\" font-size=\"14.00\" text-anchor=\"middle\" x=\"640.8676\" y=\"-372.9516\">G</text>\n</g>\n<!-- C&#45;&gt;G -->\n<g class=\"edge\" id=\"edge2\">\n<title>C-&gt;G</title>\n<path d=\"M598.1502,-244.606C606.5308,-270.5117 622.1725,-318.8624 632.0246,-349.3165\" fill=\"none\" stroke=\"#000000\"/>\n<polygon fill=\"#000000\" points=\"628.7168,-350.4628 635.1249,-358.9 635.3769,-348.3082 628.7168,-350.4628\" stroke=\"#000000\"/>\n</g>\n<!-- P -->\n<g class=\"node\" id=\"node4\">\n<title>P</title>\n<ellipse cx=\"613.1097\" cy=\"-288.1638\" fill=\"none\" rx=\"27\" ry=\"18\" stroke=\"#000000\"/>\n<text fill=\"#000000\" font-family=\"Times,serif\" font-size=\"14.00\" text-anchor=\"middle\" x=\"613.1097\" y=\"-284.4638\">P</text>\n</g>\n<!-- C&#45;&gt;P -->\n<g class=\"edge\" id=\"edge3\">\n<title>C-&gt;P</title>\n<path d=\"M598.3901,-244.5712C600.0924,-249.6126 601.9873,-255.2246 603.8358,-260.699\" fill=\"none\" stroke=\"#000000\"/>\n<polygon fill=\"#000000\" points=\"600.546,-261.8966 607.0613,-270.2513 607.1781,-259.6571 600.546,-261.8966\" stroke=\"#000000\"/>\n</g>\n<!-- R -->\n<g class=\"node\" id=\"node5\">\n<title>R</title>\n<ellipse cx=\"518.1494\" cy=\"-231.3534\" fill=\"none\" rx=\"27\" ry=\"18\" stroke=\"#000000\"/>\n<text fill=\"#000000\" font-family=\"Times,serif\" font-size=\"14.00\" text-anchor=\"middle\" x=\"518.1494\" y=\"-227.6534\">R</text>\n</g>\n<!-- C&#45;&gt;R -->\n<g class=\"edge\" id=\"edge4\">\n<title>C-&gt;R</title>\n<path d=\"M565.1734,-228.4895C562.046,-228.68 558.8174,-228.8766 555.5857,-229.0734\" fill=\"none\" stroke=\"#000000\"/>\n<polygon fill=\"#000000\" points=\"555.1414,-225.5939 545.3727,-229.6954 555.567,-232.5809 555.1414,-225.5939\" stroke=\"#000000\"/>\n</g>\n<!-- K&#45;&gt;R -->\n<g class=\"edge\" id=\"edge5\">\n<title>K-&gt;R</title>\n<path d=\"M461.7972,-329.1499C475.7436,-311.0748 495.5235,-280.4045 507.714,-258.1906\" fill=\"none\" stroke=\"#000000\"/>\n<polygon fill=\"#000000\" points=\"510.8607,-259.7267 512.4346,-249.2494 504.6705,-256.4584 510.8607,-259.7267\" stroke=\"#000000\"/>\n</g>\n<!-- P&#45;&gt;K -->\n<g class=\"edge\" id=\"edge87\">\n<title>P-&gt;K</title>\n<path d=\"M588.8545,-296.2879C560.3174,-305.8462 512.7465,-321.7797 480.4813,-332.5867\" fill=\"none\" stroke=\"#000000\"/>\n<polygon fill=\"#000000\" points=\"478.9576,-329.4059 470.587,-335.9007 481.1808,-336.0434 478.9576,-329.4059\" stroke=\"#000000\"/>\n</g>\n<!-- H -->\n<g class=\"node\" id=\"node17\">\n<title>H</title>\n<ellipse cx=\"500.9766\" cy=\"-130.8931\" fill=\"none\" rx=\"27\" ry=\"18\" stroke=\"#000000\"/>\n<text fill=\"#000000\" font-family=\"Times,serif\" font-size=\"14.00\" text-anchor=\"middle\" x=\"500.9766\" y=\"-127.1931\">H</text>\n</g>\n<!-- P&#45;&gt;H -->\n<g class=\"edge\" id=\"edge89\">\n<title>P-&gt;H</title>\n<path d=\"M601.3214,-271.6303C581.5847,-243.9489 541.7494,-188.0784 518.6483,-155.6783\" fill=\"none\" stroke=\"#000000\"/>\n<polygon fill=\"#000000\" points=\"521.2622,-153.3155 512.6069,-147.2051 515.5626,-157.3793 521.2622,-153.3155\" stroke=\"#000000\"/>\n</g>\n<!-- Q -->\n<g class=\"node\" id=\"node26\">\n<title>Q</title>\n<ellipse cx=\"510.3471\" cy=\"-338.5421\" fill=\"none\" rx=\"27\" ry=\"18\" stroke=\"#000000\"/>\n<text fill=\"#000000\" font-family=\"Times,serif\" font-size=\"14.00\" text-anchor=\"middle\" x=\"510.3471\" y=\"-334.8421\">Q</text>\n</g>\n<!-- P&#45;&gt;Q -->\n<g class=\"edge\" id=\"edge88\">\n<title>P-&gt;Q</title>\n<path d=\"M591.3164,-298.8477C576.7383,-305.9945 557.3399,-315.5044 541.185,-323.4241\" fill=\"none\" stroke=\"#000000\"/>\n<polygon fill=\"#000000\" points=\"539.5474,-320.3289 532.109,-327.8735 542.6288,-326.6143 539.5474,-320.3289\" stroke=\"#000000\"/>\n</g>\n<!-- R&#45;&gt;K -->\n<g class=\"edge\" id=\"edge90\">\n<title>R-&gt;K</title>\n<path d=\"M502.6547,-246.2381C488.7083,-264.3132 468.9284,-294.9836 456.738,-317.1975\" fill=\"none\" stroke=\"#000000\"/>\n<polygon fill=\"#000000\" points=\"453.5912,-315.6613 452.0173,-326.1386 459.7814,-318.9296 453.5912,-315.6613\" stroke=\"#000000\"/>\n</g>\n<!-- R&#45;&gt;G -->\n<g class=\"edge\" id=\"edge94\">\n<title>R-&gt;G</title>\n<path d=\"M531.516,-247.1795C553.0933,-272.7269 595.7217,-323.1988 620.9081,-353.0196\" fill=\"none\" stroke=\"#000000\"/>\n<polygon fill=\"#000000\" points=\"618.3911,-355.4637 627.5175,-360.8451 623.7389,-350.9469 618.3911,-355.4637\" stroke=\"#000000\"/>\n</g>\n<!-- R&#45;&gt;P -->\n<g class=\"edge\" id=\"edge95\">\n<title>R-&gt;P</title>\n<path d=\"M538.288,-243.4014C551.6333,-251.3853 569.3502,-261.9845 584.1938,-270.8648\" fill=\"none\" stroke=\"#000000\"/>\n<polygon fill=\"#000000\" points=\"582.6216,-274.0027 593.0001,-276.1332 586.2154,-267.9956 582.6216,-274.0027\" stroke=\"#000000\"/>\n</g>\n<!-- Z -->\n<g class=\"node\" id=\"node11\">\n<title>Z</title>\n<ellipse cx=\"467.8794\" cy=\"-48.8236\" fill=\"none\" rx=\"27\" ry=\"18\" stroke=\"#000000\"/>\n<text fill=\"#000000\" font-family=\"Times,serif\" font-size=\"14.00\" text-anchor=\"middle\" x=\"467.8794\" y=\"-45.1236\">Z</text>\n</g>\n<!-- R&#45;&gt;Z -->\n<g class=\"edge\" id=\"edge96\">\n<title>R-&gt;Z</title>\n<path d=\"M513.2378,-213.5193C504.4532,-181.6227 485.9939,-114.5972 475.5343,-76.6184\" fill=\"none\" stroke=\"#000000\"/>\n<polygon fill=\"#000000\" points=\"478.8406,-75.4417 472.811,-66.73 472.0919,-77.3004 478.8406,-75.4417\" stroke=\"#000000\"/>\n</g>\n<!-- J -->\n<g class=\"node\" id=\"node13\">\n<title>J</title>\n<ellipse cx=\"554.4743\" cy=\"-74.0494\" fill=\"none\" rx=\"27\" ry=\"18\" stroke=\"#000000\"/>\n<text fill=\"#000000\" font-family=\"Times,serif\" font-size=\"14.00\" text-anchor=\"middle\" x=\"554.4743\" y=\"-70.3494\">J</text>\n</g>\n<!-- R&#45;&gt;J -->\n<g class=\"edge\" id=\"edge97\">\n<title>R-&gt;J</title>\n<path d=\"M522.3164,-213.3086C528.6117,-186.047 540.5989,-134.1365 548.0266,-101.971\" fill=\"none\" stroke=\"#000000\"/>\n<polygon fill=\"#000000\" points=\"551.5162,-102.4149 550.356,-91.8837 544.6956,-100.8398 551.5162,-102.4149\" stroke=\"#000000\"/>\n</g>\n<!-- S -->\n<g class=\"node\" id=\"node18\">\n<title>S</title>\n<ellipse cx=\"359.4596\" cy=\"-360.1347\" fill=\"none\" rx=\"27\" ry=\"18\" stroke=\"#000000\"/>\n<text fill=\"#000000\" font-family=\"Times,serif\" font-size=\"14.00\" text-anchor=\"middle\" x=\"359.4596\" y=\"-356.4347\">S</text>\n</g>\n<!-- R&#45;&gt;S -->\n<g class=\"edge\" id=\"edge91\">\n<title>R-&gt;S</title>\n<path d=\"M500.8647,-245.3804C472.8434,-268.1205 417.3673,-313.141 384.8534,-339.5269\" fill=\"none\" stroke=\"#000000\"/>\n<polygon fill=\"#000000\" points=\"382.2824,-337.1059 376.723,-346.125 386.6934,-342.5413 382.2824,-337.1059\" stroke=\"#000000\"/>\n</g>\n<!-- E -->\n<g class=\"node\" id=\"node22\">\n<title>E</title>\n<ellipse cx=\"254.6327\" cy=\"-200.5483\" fill=\"none\" rx=\"27\" ry=\"18\" stroke=\"#000000\"/>\n<text fill=\"#000000\" font-family=\"Times,serif\" font-size=\"14.00\" text-anchor=\"middle\" x=\"254.6327\" y=\"-196.8483\">E</text>\n</g>\n<!-- R&#45;&gt;E -->\n<g class=\"edge\" id=\"edge92\">\n<title>R-&gt;E</title>\n<path d=\"M492.8915,-224.1609C446.271,-215.5345 346.5068,-203.6561 292.0262,-200.032\" fill=\"none\" stroke=\"#000000\"/>\n<polygon fill=\"#000000\" points=\"291.9535,-196.5216 281.763,-199.4207 291.5372,-203.5092 291.9535,-196.5216\" stroke=\"#000000\"/>\n</g>\n<!-- R&#45;&gt;Q -->\n<g class=\"edge\" id=\"edge93\">\n<title>R-&gt;Q</title>\n<path d=\"M516.8259,-249.5365C515.6153,-266.1674 513.8054,-291.0326 512.406,-310.2576\" fill=\"none\" stroke=\"#000000\"/>\n<polygon fill=\"#000000\" points=\"508.9125,-310.0421 511.6772,-320.2698 515.894,-310.5503 508.9125,-310.0421\" stroke=\"#000000\"/>\n</g>\n<!-- O -->\n<g class=\"node\" id=\"node6\">\n<title>O</title>\n<ellipse cx=\"458.465\" cy=\"-287.6938\" fill=\"none\" rx=\"27\" ry=\"18\" stroke=\"#000000\"/>\n<text fill=\"#000000\" font-family=\"Times,serif\" font-size=\"14.00\" text-anchor=\"middle\" x=\"458.465\" y=\"-283.9938\">O</text>\n</g>\n<!-- O&#45;&gt;C -->\n<g class=\"edge\" id=\"edge6\">\n<title>O-&gt;C</title>\n<path d=\"M480.8827,-277.5068C502.709,-267.5885 536.0904,-252.4194 560.645,-241.2613\" fill=\"none\" stroke=\"#000000\"/>\n<polygon fill=\"#000000\" points=\"562.253,-244.3751 569.9091,-237.0516 559.357,-238.0022 562.253,-244.3751\" stroke=\"#000000\"/>\n</g>\n<!-- O&#45;&gt;K -->\n<g class=\"edge\" id=\"edge7\">\n<title>O-&gt;K</title>\n<path d=\"M454.6167,-305.5204C453.8847,-308.9115 453.1025,-312.5348 452.3217,-316.1518\" fill=\"none\" stroke=\"#000000\"/>\n<polygon fill=\"#000000\" points=\"448.8565,-315.6172 450.1675,-326.1306 455.6989,-317.0944 448.8565,-315.6172\" stroke=\"#000000\"/>\n</g>\n<!-- O&#45;&gt;G -->\n<g class=\"edge\" id=\"edge10\">\n<title>O-&gt;G</title>\n<path d=\"M480.467,-298.4242C512.7367,-314.1621 573.046,-343.575 609.815,-361.5072\" fill=\"none\" stroke=\"#000000\"/>\n<polygon fill=\"#000000\" points=\"608.5492,-364.7839 619.0715,-366.0216 611.6177,-358.4923 608.5492,-364.7839\" stroke=\"#000000\"/>\n</g>\n<!-- B -->\n<g class=\"node\" id=\"node7\">\n<title>B</title>\n<ellipse cx=\"311.4026\" cy=\"-257.1294\" fill=\"none\" rx=\"27\" ry=\"18\" stroke=\"#000000\"/>\n<text fill=\"#000000\" font-family=\"Times,serif\" font-size=\"14.00\" text-anchor=\"middle\" x=\"311.4026\" y=\"-253.4294\">B</text>\n</g>\n<!-- O&#45;&gt;B -->\n<g class=\"edge\" id=\"edge8\">\n<title>O-&gt;B</title>\n<path d=\"M435.8777,-277.7753C412.6451,-271.0293 376.0818,-263.1639 348.5794,-258.8328\" fill=\"none\" stroke=\"#000000\"/>\n<polygon fill=\"#000000\" points=\"348.9318,-255.347 338.5291,-257.3556 347.9138,-262.2726 348.9318,-255.347\" stroke=\"#000000\"/>\n</g>\n<!-- U -->\n<g class=\"node\" id=\"node8\">\n<title>U</title>\n<ellipse cx=\"455.7623\" cy=\"-199.3959\" fill=\"none\" rx=\"27\" ry=\"18\" stroke=\"#000000\"/>\n<text fill=\"#000000\" font-family=\"Times,serif\" font-size=\"14.00\" text-anchor=\"middle\" x=\"455.7623\" y=\"-195.6959\">U</text>\n</g>\n<!-- O&#45;&gt;U -->\n<g class=\"edge\" id=\"edge9\">\n<title>O-&gt;U</title>\n<path d=\"M457.905,-269.3985C457.539,-257.4409 457.0534,-241.5766 456.6371,-227.9741\" fill=\"none\" stroke=\"#000000\"/>\n<polygon fill=\"#000000\" points=\"460.126,-227.5561 456.3216,-217.6679 453.1293,-227.7703 460.126,-227.5561\" stroke=\"#000000\"/>\n</g>\n<!-- V -->\n<g class=\"node\" id=\"node9\">\n<title>V</title>\n<ellipse cx=\"322.3016\" cy=\"-422.2696\" fill=\"none\" rx=\"27\" ry=\"18\" stroke=\"#000000\"/>\n<text fill=\"#000000\" font-family=\"Times,serif\" font-size=\"14.00\" text-anchor=\"middle\" x=\"322.3016\" y=\"-418.5696\">V</text>\n</g>\n<!-- O&#45;&gt;V -->\n<g class=\"edge\" id=\"edge11\">\n<title>O-&gt;V</title>\n<path d=\"M443.11,-302.8698C419.2061,-326.495 372.9581,-372.2038 345.1346,-399.7029\" fill=\"none\" stroke=\"#000000\"/>\n<polygon fill=\"#000000\" points=\"342.4615,-397.4238 337.8094,-406.9427 347.3821,-402.4025 342.4615,-397.4238\" stroke=\"#000000\"/>\n</g>\n<!-- D -->\n<g class=\"node\" id=\"node10\">\n<title>D</title>\n<ellipse cx=\"297.3839\" cy=\"-347.7847\" fill=\"none\" rx=\"27\" ry=\"18\" stroke=\"#000000\"/>\n<text fill=\"#000000\" font-family=\"Times,serif\" font-size=\"14.00\" text-anchor=\"middle\" x=\"297.3839\" y=\"-344.0847\">D</text>\n</g>\n<!-- O&#45;&gt;D -->\n<g class=\"edge\" id=\"edge12\">\n<title>O-&gt;D</title>\n<path d=\"M434.6969,-296.5605C407.1371,-306.8416 361.5322,-323.8544 330.5067,-335.4283\" fill=\"none\" stroke=\"#000000\"/>\n<polygon fill=\"#000000\" points=\"329.1331,-332.2051 320.9871,-338.9796 331.5797,-338.7636 329.1331,-332.2051\" stroke=\"#000000\"/>\n</g>\n<!-- O&#45;&gt;Z -->\n<g class=\"edge\" id=\"edge13\">\n<title>O-&gt;Z</title>\n<path d=\"M459.1881,-269.3467C460.8247,-227.8209 464.8216,-126.4093 466.7722,-76.9178\" fill=\"none\" stroke=\"#000000\"/>\n<polygon fill=\"#000000\" points=\"470.2701,-77.0363 467.1667,-66.9062 463.2755,-76.7606 470.2701,-77.0363\" stroke=\"#000000\"/>\n</g>\n<!-- W -->\n<g class=\"node\" id=\"node12\">\n<title>W</title>\n<ellipse cx=\"339.167\" cy=\"-503.5676\" fill=\"none\" rx=\"27\" ry=\"18\" stroke=\"#000000\"/>\n<text fill=\"#000000\" font-family=\"Times,serif\" font-size=\"14.00\" text-anchor=\"middle\" x=\"339.167\" y=\"-499.8676\">W</text>\n</g>\n<!-- O&#45;&gt;W -->\n<g class=\"edge\" id=\"edge14\">\n<title>O-&gt;W</title>\n<path d=\"M449.1039,-304.6331C428.3351,-342.2149 378.2857,-432.7809 353.529,-477.5791\" fill=\"none\" stroke=\"#000000\"/>\n<polygon fill=\"#000000\" points=\"350.4232,-475.963 348.6497,-486.4084 356.5499,-479.3488 350.4232,-475.963\" stroke=\"#000000\"/>\n</g>\n<!-- O&#45;&gt;J -->\n<g class=\"edge\" id=\"edge15\">\n<title>O-&gt;J</title>\n<path d=\"M466.3219,-270.2104C483.1011,-232.8724 522.5274,-145.1392 542.4711,-100.7596\" fill=\"none\" stroke=\"#000000\"/>\n<polygon fill=\"#000000\" points=\"545.737,-102.0308 546.6436,-91.4748 539.352,-99.1614 545.737,-102.0308\" stroke=\"#000000\"/>\n</g>\n<!-- B&#45;&gt;O -->\n<g class=\"edge\" id=\"edge20\">\n<title>B-&gt;O</title>\n<path d=\"M333.9899,-267.0479C357.2226,-273.7939 393.7858,-281.6593 421.2883,-285.9904\" fill=\"none\" stroke=\"#000000\"/>\n<polygon fill=\"#000000\" points=\"420.9359,-289.4762 431.3385,-287.4676 421.9538,-282.5506 420.9359,-289.4762\" stroke=\"#000000\"/>\n</g>\n<!-- A -->\n<g class=\"node\" id=\"node16\">\n<title>A</title>\n<ellipse cx=\"256.6202\" cy=\"-407.1961\" fill=\"none\" rx=\"27\" ry=\"18\" stroke=\"#000000\"/>\n<text fill=\"#000000\" font-family=\"Times,serif\" font-size=\"14.00\" text-anchor=\"middle\" x=\"256.6202\" y=\"-403.4961\">A</text>\n</g>\n<!-- B&#45;&gt;A -->\n<g class=\"edge\" id=\"edge21\">\n<title>B-&gt;A</title>\n<path d=\"M300.4881,-273.6588C288.4001,-299.0898 270.284,-348.0421 261.2584,-379.1011\" fill=\"none\" stroke=\"#000000\"/>\n<polygon fill=\"#000000\" points=\"257.8438,-378.3183 258.5679,-388.8883 264.5934,-380.1738 257.8438,-378.3183\" stroke=\"#000000\"/>\n</g>\n<!-- B&#45;&gt;H -->\n<g class=\"edge\" id=\"edge22\">\n<title>B-&gt;H</title>\n<path d=\"M330.6232,-244.3305C364.2612,-221.9311 433.9293,-175.5396 472.9465,-149.5582\" fill=\"none\" stroke=\"#000000\"/>\n<polygon fill=\"#000000\" points=\"475.3215,-152.1817 481.7051,-143.7259 471.4417,-146.3553 475.3215,-152.1817\" stroke=\"#000000\"/>\n</g>\n<!-- U&#45;&gt;C -->\n<g class=\"edge\" id=\"edge57\">\n<title>U-&gt;C</title>\n<path d=\"M481.7844,-204.6209C502.9633,-208.8734 533.083,-214.9211 556.5462,-219.6322\" fill=\"none\" stroke=\"#000000\"/>\n<polygon fill=\"#000000\" points=\"555.9814,-223.0886 566.4747,-221.6258 557.3595,-216.2256 555.9814,-223.0886\" stroke=\"#000000\"/>\n</g>\n<!-- U&#45;&gt;P -->\n<g class=\"edge\" id=\"edge62\">\n<title>U-&gt;P</title>\n<path d=\"M476.6568,-211.1836C503.9303,-226.57 551.8504,-253.6042 583.0308,-271.1948\" fill=\"none\" stroke=\"#000000\"/>\n<polygon fill=\"#000000\" points=\"581.6994,-274.4621 592.1287,-276.3274 585.1389,-268.3654 581.6994,-274.4621\" stroke=\"#000000\"/>\n</g>\n<!-- U&#45;&gt;R -->\n<g class=\"edge\" id=\"edge63\">\n<title>U-&gt;R</title>\n<path d=\"M477.2324,-210.3939C480.528,-212.082 483.9844,-213.8526 487.4331,-215.6191\" fill=\"none\" stroke=\"#000000\"/>\n<polygon fill=\"#000000\" points=\"485.932,-218.7826 496.428,-220.2267 489.1234,-212.5524 485.932,-218.7826\" stroke=\"#000000\"/>\n</g>\n<!-- U&#45;&gt;B -->\n<g class=\"edge\" id=\"edge58\">\n<title>U-&gt;B</title>\n<path d=\"M432.5684,-208.6718C408.7178,-218.2103 371.356,-233.1523 344.4244,-243.923\" fill=\"none\" stroke=\"#000000\"/>\n<polygon fill=\"#000000\" points=\"343.0038,-240.7216 335.0185,-247.6847 345.6032,-247.2211 343.0038,-240.7216\" stroke=\"#000000\"/>\n</g>\n<!-- U&#45;&gt;Z -->\n<g class=\"edge\" id=\"edge64\">\n<title>U-&gt;Z</title>\n<path d=\"M457.2239,-181.2334C459.3072,-155.345 463.1498,-107.5953 465.6066,-77.0666\" fill=\"none\" stroke=\"#000000\"/>\n<polygon fill=\"#000000\" points=\"469.0991,-77.2991 466.4126,-67.0505 462.1217,-76.7375 469.0991,-77.2991\" stroke=\"#000000\"/>\n</g>\n<!-- U&#45;&gt;H -->\n<g class=\"edge\" id=\"edge61\">\n<title>U-&gt;H</title>\n<path d=\"M466.7074,-182.8133C471.9606,-174.8543 478.3707,-165.1426 484.2198,-156.2809\" fill=\"none\" stroke=\"#000000\"/>\n<polygon fill=\"#000000\" points=\"487.2306,-158.073 489.8182,-147.7989 481.3884,-154.2169 487.2306,-158.073\" stroke=\"#000000\"/>\n</g>\n<!-- U&#45;&gt;S -->\n<g class=\"edge\" id=\"edge59\">\n<title>U-&gt;S</title>\n<path d=\"M441.2859,-214.9338C421.5178,-242.3168 387.1798,-299.2569 369.7833,-333.1581\" fill=\"none\" stroke=\"#000000\"/>\n<polygon fill=\"#000000\" points=\"366.4704,-331.9603 365.1571,-342.4734 372.7398,-335.0739 366.4704,-331.9603\" stroke=\"#000000\"/>\n</g>\n<!-- L -->\n<g class=\"node\" id=\"node23\">\n<title>L</title>\n<ellipse cx=\"405.0233\" cy=\"-151.7549\" fill=\"none\" rx=\"27\" ry=\"18\" stroke=\"#000000\"/>\n<text fill=\"#000000\" font-family=\"Times,serif\" font-size=\"14.00\" text-anchor=\"middle\" x=\"405.0233\" y=\"-148.0549\">L</text>\n</g>\n<!-- U&#45;&gt;L -->\n<g class=\"edge\" id=\"edge65\">\n<title>U-&gt;L</title>\n<path d=\"M439.9863,-184.5832C436.299,-181.121 432.2947,-177.3612 428.3562,-173.6632\" fill=\"none\" stroke=\"#000000\"/>\n<polygon fill=\"#000000\" points=\"430.6502,-171.0161 420.9643,-166.7226 425.8587,-176.1192 430.6502,-171.0161\" stroke=\"#000000\"/>\n</g>\n<!-- U&#45;&gt;Q -->\n<g class=\"edge\" id=\"edge60\">\n<title>U-&gt;Q</title>\n<path d=\"M462.6755,-217.0189C472.0267,-240.8568 488.7938,-283.5989 499.7436,-311.5119\" fill=\"none\" stroke=\"#000000\"/>\n<polygon fill=\"#000000\" points=\"496.5798,-313.0311 503.4901,-321.0622 503.0964,-310.4747 496.5798,-313.0311\" stroke=\"#000000\"/>\n</g>\n<!-- V&#45;&gt;B -->\n<g class=\"edge\" id=\"edge82\">\n<title>V-&gt;B</title>\n<path d=\"M321.1144,-404.2824C319.2276,-375.6938 315.5285,-319.6439 313.2798,-285.5729\" fill=\"none\" stroke=\"#000000\"/>\n<polygon fill=\"#000000\" points=\"316.7559,-285.0936 312.6049,-275.3458 309.7711,-285.5546 316.7559,-285.0936\" stroke=\"#000000\"/>\n</g>\n<!-- V&#45;&gt;A -->\n<g class=\"edge\" id=\"edge83\">\n<title>V-&gt;A</title>\n<path d=\"M296.7193,-416.3986C295.2335,-416.0577 293.7268,-415.7119 292.2123,-415.3643\" fill=\"none\" stroke=\"#000000\"/>\n<polygon fill=\"#000000\" points=\"292.7701,-411.9014 282.2406,-413.0758 291.2043,-418.724 292.7701,-411.9014\" stroke=\"#000000\"/>\n</g>\n<!-- D&#45;&gt;V -->\n<g class=\"edge\" id=\"edge85\">\n<title>D-&gt;V</title>\n<path d=\"M303.2891,-365.4366C306.2157,-374.1851 309.8169,-384.9498 313.095,-394.749\" fill=\"none\" stroke=\"#000000\"/>\n<polygon fill=\"#000000\" points=\"309.8607,-396.1133 316.3525,-404.4863 316.4991,-393.8925 309.8607,-396.1133\" stroke=\"#000000\"/>\n</g>\n<!-- F -->\n<g class=\"node\" id=\"node21\">\n<title>F</title>\n<ellipse cx=\"192.7726\" cy=\"-356.8217\" fill=\"none\" rx=\"27\" ry=\"18\" stroke=\"#000000\"/>\n<text fill=\"#000000\" font-family=\"Times,serif\" font-size=\"14.00\" text-anchor=\"middle\" x=\"192.7726\" y=\"-353.1217\">F</text>\n</g>\n<!-- D&#45;&gt;F -->\n<g class=\"edge\" id=\"edge86\">\n<title>D-&gt;F</title>\n<path d=\"M270.4439,-350.1119C258.1196,-351.1766 243.3164,-352.4554 229.9539,-353.6097\" fill=\"none\" stroke=\"#000000\"/>\n<polygon fill=\"#000000\" points=\"229.2829,-350.1545 219.6213,-354.5023 229.8854,-357.1286 229.2829,-350.1545\" stroke=\"#000000\"/>\n</g>\n<!-- D&#45;&gt;Q -->\n<g class=\"edge\" id=\"edge84\">\n<title>D-&gt;Q</title>\n<path d=\"M324.3559,-346.6141C362.0168,-344.9796 430.5073,-342.0071 473.0393,-340.1612\" fill=\"none\" stroke=\"#000000\"/>\n<polygon fill=\"#000000\" points=\"473.4199,-343.6481 483.2587,-339.7177 473.1163,-336.6547 473.4199,-343.6481\" stroke=\"#000000\"/>\n</g>\n<!-- N -->\n<g class=\"node\" id=\"node14\">\n<title>N</title>\n<ellipse cx=\"216.7927\" cy=\"-273.8136\" fill=\"none\" rx=\"27\" ry=\"18\" stroke=\"#000000\"/>\n<text fill=\"#000000\" font-family=\"Times,serif\" font-size=\"14.00\" text-anchor=\"middle\" x=\"216.7927\" y=\"-270.1136\">N</text>\n</g>\n<!-- N&#45;&gt;B -->\n<g class=\"edge\" id=\"edge16\">\n<title>N-&gt;B</title>\n<path d=\"M242.8957,-269.2104C252.8434,-267.4561 264.3683,-265.4238 275.0946,-263.5322\" fill=\"none\" stroke=\"#000000\"/>\n<polygon fill=\"#000000\" points=\"275.8162,-266.959 285.0563,-261.7755 274.6004,-260.0654 275.8162,-266.959\" stroke=\"#000000\"/>\n</g>\n<!-- N&#45;&gt;V -->\n<g class=\"edge\" id=\"edge19\">\n<title>N-&gt;V</title>\n<path d=\"M228.4871,-290.2682C246.946,-316.2407 282.9569,-366.9098 304.5971,-397.3586\" fill=\"none\" stroke=\"#000000\"/>\n<polygon fill=\"#000000\" points=\"301.9088,-399.6178 310.5548,-405.7413 307.6146,-395.5626 301.9088,-399.6178\" stroke=\"#000000\"/>\n</g>\n<!-- M -->\n<g class=\"node\" id=\"node15\">\n<title>M</title>\n<ellipse cx=\"335.455\" cy=\"-167.3835\" fill=\"none\" rx=\"27\" ry=\"18\" stroke=\"#000000\"/>\n<text fill=\"#000000\" font-family=\"Times,serif\" font-size=\"14.00\" text-anchor=\"middle\" x=\"335.455\" y=\"-163.6835\">M</text>\n</g>\n<!-- N&#45;&gt;M -->\n<g class=\"edge\" id=\"edge17\">\n<title>N-&gt;M</title>\n<path d=\"M233.2922,-259.015C253.5719,-240.8258 288.1469,-209.8148 311.3892,-188.9685\" fill=\"none\" stroke=\"#000000\"/>\n<polygon fill=\"#000000\" points=\"313.9882,-191.339 319.0956,-182.0565 309.3143,-186.1279 313.9882,-191.339\" stroke=\"#000000\"/>\n</g>\n<!-- N&#45;&gt;A -->\n<g class=\"edge\" id=\"edge18\">\n<title>N-&gt;A</title>\n<path d=\"M222.0815,-291.5258C228.8063,-314.0474 240.4904,-353.1775 248.386,-379.6198\" fill=\"none\" stroke=\"#000000\"/>\n<polygon fill=\"#000000\" points=\"245.0946,-380.8301 251.3095,-389.4107 251.802,-378.8273 245.0946,-380.8301\" stroke=\"#000000\"/>\n</g>\n<!-- M&#45;&gt;O -->\n<g class=\"edge\" id=\"edge43\">\n<title>M-&gt;O</title>\n<path d=\"M350.7856,-182.3777C372.1477,-203.2709 411.0228,-241.2928 435.7549,-265.4821\" fill=\"none\" stroke=\"#000000\"/>\n<polygon fill=\"#000000\" points=\"433.3448,-268.0207 442.9412,-272.5108 438.2394,-263.0164 433.3448,-268.0207\" stroke=\"#000000\"/>\n</g>\n<!-- M&#45;&gt;B -->\n<g class=\"edge\" id=\"edge44\">\n<title>M-&gt;B</title>\n<path d=\"M330.703,-185.1144C327.3319,-197.6929 322.7393,-214.8291 318.8798,-229.2299\" fill=\"none\" stroke=\"#000000\"/>\n<polygon fill=\"#000000\" points=\"315.4351,-228.5629 316.227,-239.1281 322.1965,-230.3751 315.4351,-228.5629\" stroke=\"#000000\"/>\n</g>\n<!-- M&#45;&gt;Z -->\n<g class=\"edge\" id=\"edge46\">\n<title>M-&gt;Z</title>\n<path d=\"M351.6928,-152.8457C374.7259,-132.2242 417.0486,-94.3326 443.7591,-70.4185\" fill=\"none\" stroke=\"#000000\"/>\n<polygon fill=\"#000000\" points=\"446.393,-72.7582 451.5088,-63.4802 441.7238,-67.543 446.393,-72.7582\" stroke=\"#000000\"/>\n</g>\n<!-- M&#45;&gt;J -->\n<g class=\"edge\" id=\"edge48\">\n<title>M-&gt;J</title>\n<path d=\"M358.4799,-157.5715C397.6689,-140.8713 477.4269,-106.8828 522.1745,-87.8138\" fill=\"none\" stroke=\"#000000\"/>\n<polygon fill=\"#000000\" points=\"523.6018,-91.0102 531.4292,-83.87 520.8576,-84.5705 523.6018,-91.0102\" stroke=\"#000000\"/>\n</g>\n<!-- M&#45;&gt;H -->\n<g class=\"edge\" id=\"edge45\">\n<title>M-&gt;H</title>\n<path d=\"M361.3177,-161.6819C389.2555,-155.5228 433.9594,-145.6675 465.244,-138.7707\" fill=\"none\" stroke=\"#000000\"/>\n<polygon fill=\"#000000\" points=\"466.2835,-142.1256 475.2955,-136.5547 464.7764,-135.2898 466.2835,-142.1256\" stroke=\"#000000\"/>\n</g>\n<!-- M&#45;&gt;F -->\n<g class=\"edge\" id=\"edge47\">\n<title>M-&gt;F</title>\n<path d=\"M323.2899,-183.5349C298.2286,-216.8086 240.7194,-293.1631 211.118,-332.4645\" fill=\"none\" stroke=\"#000000\"/>\n<polygon fill=\"#000000\" points=\"208.1274,-330.6177 204.9068,-340.7112 213.7188,-334.8291 208.1274,-330.6177\" stroke=\"#000000\"/>\n</g>\n<!-- X -->\n<g class=\"node\" id=\"node24\">\n<title>X</title>\n<ellipse cx=\"187.717\" cy=\"-17.9298\" fill=\"none\" rx=\"27\" ry=\"18\" stroke=\"#000000\"/>\n<text fill=\"#000000\" font-family=\"Times,serif\" font-size=\"14.00\" text-anchor=\"middle\" x=\"187.717\" y=\"-14.2298\">X</text>\n</g>\n<!-- M&#45;&gt;X -->\n<g class=\"edge\" id=\"edge49\">\n<title>M-&gt;X</title>\n<path d=\"M320.476,-152.2306C294.3721,-125.8235 240.4257,-71.2507 209.9475,-40.4184\" fill=\"none\" stroke=\"#000000\"/>\n<polygon fill=\"#000000\" points=\"212.2549,-37.7741 202.7356,-33.1228 207.2766,-42.6952 212.2549,-37.7741\" stroke=\"#000000\"/>\n</g>\n<!-- A&#45;&gt;K -->\n<g class=\"edge\" id=\"edge66\">\n<title>A-&gt;K</title>\n<path d=\"M281.0295,-399.0681C314.4633,-387.9352 374.6496,-367.894 412.4303,-355.3136\" fill=\"none\" stroke=\"#000000\"/>\n<polygon fill=\"#000000\" points=\"413.6048,-358.6115 421.9869,-352.1314 411.3933,-351.97 413.6048,-358.6115\" stroke=\"#000000\"/>\n</g>\n<!-- A&#45;&gt;B -->\n<g class=\"edge\" id=\"edge67\">\n<title>A-&gt;B</title>\n<path d=\"M267.5347,-390.6666C279.6227,-365.2356 297.7387,-316.2833 306.7644,-285.2243\" fill=\"none\" stroke=\"#000000\"/>\n<polygon fill=\"#000000\" points=\"310.179,-286.0072 309.4549,-275.4371 303.4294,-284.1516 310.179,-286.0072\" stroke=\"#000000\"/>\n</g>\n<!-- A&#45;&gt;W -->\n<g class=\"edge\" id=\"edge71\">\n<title>A-&gt;W</title>\n<path d=\"M270.2511,-423.1099C283.5144,-438.5945 303.826,-462.3079 318.9669,-479.9845\" fill=\"none\" stroke=\"#000000\"/>\n<polygon fill=\"#000000\" points=\"316.3523,-482.3122 325.5158,-487.6302 321.6687,-477.7585 316.3523,-482.3122\" stroke=\"#000000\"/>\n</g>\n<!-- A&#45;&gt;S -->\n<g class=\"edge\" id=\"edge68\">\n<title>A-&gt;S</title>\n<path d=\"M282.6192,-401.6559C298.0291,-395.8754 317.4867,-387.105 332.979,-379.0119\" fill=\"none\" stroke=\"#000000\"/>\n<polygon fill=\"#000000\" points=\"334.922,-381.9396 342.0411,-374.093 331.5826,-375.7875 334.922,-381.9396\" stroke=\"#000000\"/>\n</g>\n<!-- A&#45;&gt;F -->\n<g class=\"edge\" id=\"edge70\">\n<title>A-&gt;F</title>\n<path d=\"M239.1735,-393.4311C232.8045,-388.406 225.46,-382.6114 218.5204,-377.1362\" fill=\"none\" stroke=\"#000000\"/>\n<polygon fill=\"#000000\" points=\"220.6612,-374.3671 210.6426,-370.9207 216.3254,-379.8626 220.6612,-374.3671\" stroke=\"#000000\"/>\n</g>\n<!-- A&#45;&gt;E -->\n<g class=\"edge\" id=\"edge69\">\n<title>A-&gt;E</title>\n<path d=\"M260.4606,-389.1803C263.4745,-353.1195 262.9581,-271.8364 259.713,-228.6895\" fill=\"none\" stroke=\"#000000\"/>\n<polygon fill=\"#000000\" points=\"263.188,-228.2492 258.8297,-218.5923 256.2146,-228.8593 263.188,-228.2492\" stroke=\"#000000\"/>\n</g>\n<!-- S&#45;&gt;K -->\n<g class=\"edge\" id=\"edge23\">\n<title>S-&gt;K</title>\n<path d=\"M385.5154,-355.3041C393.3296,-353.8554 402.0422,-352.2402 410.3751,-350.6953\" fill=\"none\" stroke=\"#000000\"/>\n<polygon fill=\"#000000\" points=\"411.0707,-354.1261 420.2652,-348.8618 409.7947,-347.2434 411.0707,-354.1261\" stroke=\"#000000\"/>\n</g>\n<!-- S&#45;&gt;O -->\n<g class=\"edge\" id=\"edge24\">\n<title>S-&gt;O</title>\n<path d=\"M378.0818,-346.5091C393.2504,-335.4105 414.8596,-319.5993 431.8535,-307.1651\" fill=\"none\" stroke=\"#000000\"/>\n<polygon fill=\"#000000\" points=\"434.2572,-309.7432 440.2609,-301.0136 430.1237,-304.094 434.2572,-309.7432\" stroke=\"#000000\"/>\n</g>\n<!-- S&#45;&gt;U -->\n<g class=\"edge\" id=\"edge27\">\n<title>S-&gt;U</title>\n<path d=\"M373.936,-344.5968C393.7041,-317.2138 428.0422,-260.2737 445.4386,-226.3725\" fill=\"none\" stroke=\"#000000\"/>\n<polygon fill=\"#000000\" points=\"448.7516,-227.5703 450.0648,-217.0571 442.4821,-224.4567 448.7516,-227.5703\" stroke=\"#000000\"/>\n</g>\n<!-- S&#45;&gt;N -->\n<g class=\"edge\" id=\"edge25\">\n<title>S-&gt;N</title>\n<path d=\"M339.3215,-347.9501C314.8927,-333.1693 273.5332,-308.1446 245.7035,-291.3062\" fill=\"none\" stroke=\"#000000\"/>\n<polygon fill=\"#000000\" points=\"247.196,-288.1185 236.8283,-285.9363 243.5723,-294.1075 247.196,-288.1185\" stroke=\"#000000\"/>\n</g>\n<!-- S&#45;&gt;A -->\n<g class=\"edge\" id=\"edge28\">\n<title>S-&gt;A</title>\n<path d=\"M333.4606,-365.6749C318.0508,-371.4554 298.5931,-380.2257 283.1008,-388.3189\" fill=\"none\" stroke=\"#000000\"/>\n<polygon fill=\"#000000\" points=\"281.1578,-385.3911 274.0387,-393.2378 284.4972,-391.5433 281.1578,-385.3911\" stroke=\"#000000\"/>\n</g>\n<!-- I -->\n<g class=\"node\" id=\"node19\">\n<title>I</title>\n<ellipse cx=\"387.5063\" cy=\"-264.0576\" fill=\"none\" rx=\"27\" ry=\"18\" stroke=\"#000000\"/>\n<text fill=\"#000000\" font-family=\"Times,serif\" font-size=\"14.00\" text-anchor=\"middle\" x=\"387.5063\" y=\"-260.3576\">I</text>\n</g>\n<!-- S&#45;&gt;I -->\n<g class=\"edge\" id=\"edge26\">\n<title>S-&gt;I</title>\n<path d=\"M364.735,-342.0633C368.8483,-327.9728 374.6335,-308.155 379.3433,-292.0211\" fill=\"none\" stroke=\"#000000\"/>\n<polygon fill=\"#000000\" points=\"382.8121,-292.6281 382.2546,-282.0479 376.0926,-290.6665 382.8121,-292.6281\" stroke=\"#000000\"/>\n</g>\n<!-- T -->\n<g class=\"node\" id=\"node20\">\n<title>T</title>\n<ellipse cx=\"463.4059\" cy=\"-397.5474\" fill=\"none\" rx=\"27\" ry=\"18\" stroke=\"#000000\"/>\n<text fill=\"#000000\" font-family=\"Times,serif\" font-size=\"14.00\" text-anchor=\"middle\" x=\"463.4059\" y=\"-393.8474\">T</text>\n</g>\n<!-- S&#45;&gt;T -->\n<g class=\"edge\" id=\"edge29\">\n<title>S-&gt;T</title>\n<path d=\"M383.307,-368.7179C397.0741,-373.673 414.609,-379.9843 429.7606,-385.4377\" fill=\"none\" stroke=\"#000000\"/>\n<polygon fill=\"#000000\" points=\"428.7151,-388.7811 439.3096,-388.8746 431.0858,-382.1947 428.7151,-388.7811\" stroke=\"#000000\"/>\n</g>\n<!-- S&#45;&gt;F -->\n<g class=\"edge\" id=\"edge30\">\n<title>S-&gt;F</title>\n<path d=\"M332.3075,-359.595C304.4591,-359.0415 260.9433,-358.1766 229.9159,-357.5599\" fill=\"none\" stroke=\"#000000\"/>\n<polygon fill=\"#000000\" points=\"229.9807,-354.0606 219.9131,-357.3611 229.8415,-361.0592 229.9807,-354.0606\" stroke=\"#000000\"/>\n</g>\n<!-- I&#45;&gt;C -->\n<g class=\"edge\" id=\"edge51\">\n<title>I-&gt;C</title>\n<path d=\"M413.8731,-259.2671C450.0649,-252.6916 515.2777,-240.8433 556.0716,-233.4317\" fill=\"none\" stroke=\"#000000\"/>\n<polygon fill=\"#000000\" points=\"556.9211,-236.8347 566.1344,-231.6034 555.6698,-229.9474 556.9211,-236.8347\" stroke=\"#000000\"/>\n</g>\n<!-- I&#45;&gt;B -->\n<g class=\"edge\" id=\"edge52\">\n<title>I-&gt;B</title>\n<path d=\"M360.4607,-261.5954C356.5355,-261.2381 352.4393,-260.8652 348.36,-260.4938\" fill=\"none\" stroke=\"#000000\"/>\n<polygon fill=\"#000000\" points=\"348.6373,-257.0047 338.3611,-259.5836 348.0026,-263.9759 348.6373,-257.0047\" stroke=\"#000000\"/>\n</g>\n<!-- I&#45;&gt;V -->\n<g class=\"edge\" id=\"edge54\">\n<title>I-&gt;V</title>\n<path d=\"M380.2792,-281.5935C368.9205,-309.1541 346.8075,-362.8087 333.4157,-395.3025\" fill=\"none\" stroke=\"#000000\"/>\n<polygon fill=\"#000000\" points=\"330.1357,-394.0759 329.5611,-404.6551 336.6076,-396.7432 330.1357,-394.0759\" stroke=\"#000000\"/>\n</g>\n<!-- I&#45;&gt;D -->\n<g class=\"edge\" id=\"edge56\">\n<title>I-&gt;D</title>\n<path d=\"M371.3943,-279.0263C357.2971,-292.1231 336.6445,-311.3101 320.7357,-326.09\" fill=\"none\" stroke=\"#000000\"/>\n<polygon fill=\"#000000\" points=\"318.3005,-323.575 313.3565,-332.9455 323.065,-328.7034 318.3005,-323.575\" stroke=\"#000000\"/>\n</g>\n<!-- I&#45;&gt;M -->\n<g class=\"edge\" id=\"edge53\">\n<title>I-&gt;M</title>\n<path d=\"M378.2006,-246.7742C370.2066,-231.9271 358.5629,-210.3015 349.446,-193.3687\" fill=\"none\" stroke=\"#000000\"/>\n<polygon fill=\"#000000\" points=\"352.5026,-191.6629 344.6801,-184.5173 346.3392,-194.9814 352.5026,-191.6629\" stroke=\"#000000\"/>\n</g>\n<!-- I&#45;&gt;H -->\n<g class=\"edge\" id=\"edge55\">\n<title>I-&gt;H</title>\n<path d=\"M400.9685,-248.259C420.7595,-225.033 457.8466,-181.5089 480.8723,-154.4868\" fill=\"none\" stroke=\"#000000\"/>\n<polygon fill=\"#000000\" points=\"483.7102,-156.5528 487.532,-146.6712 478.3822,-152.0127 483.7102,-156.5528\" stroke=\"#000000\"/>\n</g>\n<!-- T&#45;&gt;K -->\n<g class=\"edge\" id=\"edge72\">\n<title>T-&gt;K</title>\n<path d=\"M457.7107,-379.7284C456.8829,-377.1384 456.0148,-374.4221 455.1426,-371.6933\" fill=\"none\" stroke=\"#000000\"/>\n<polygon fill=\"#000000\" points=\"458.4095,-370.418 452.0311,-361.9583 451.7418,-372.5491 458.4095,-370.418\" stroke=\"#000000\"/>\n</g>\n<!-- T&#45;&gt;G -->\n<g class=\"edge\" id=\"edge77\">\n<title>T-&gt;G</title>\n<path d=\"M490.3585,-394.3738C520.7621,-390.7938 570.3766,-384.9518 604.2682,-380.9611\" fill=\"none\" stroke=\"#000000\"/>\n<polygon fill=\"#000000\" points=\"604.7208,-384.4321 614.2428,-379.7866 603.9021,-377.4801 604.7208,-384.4321\" stroke=\"#000000\"/>\n</g>\n<!-- T&#45;&gt;P -->\n<g class=\"edge\" id=\"edge79\">\n<title>T-&gt;P</title>\n<path d=\"M481.7625,-384.1348C507.9133,-365.0273 556.059,-329.8488 586.2315,-307.8028\" fill=\"none\" stroke=\"#000000\"/>\n<polygon fill=\"#000000\" points=\"588.5935,-310.4118 594.6029,-301.6861 584.4637,-304.7598 588.5935,-310.4118\" stroke=\"#000000\"/>\n</g>\n<!-- T&#45;&gt;R -->\n<g class=\"edge\" id=\"edge80\">\n<title>T-&gt;R</title>\n<path d=\"M469.2644,-379.7617C478.8132,-350.7729 497.7982,-293.1369 509.0935,-258.8461\" fill=\"none\" stroke=\"#000000\"/>\n<polygon fill=\"#000000\" points=\"512.5287,-259.6042 512.333,-249.0112 505.8801,-257.4142 512.5287,-259.6042\" stroke=\"#000000\"/>\n</g>\n<!-- T&#45;&gt;O -->\n<g class=\"edge\" id=\"edge73\">\n<title>T-&gt;O</title>\n<path d=\"M462.59,-379.4073C461.814,-362.1541 460.6349,-335.9385 459.7358,-315.9479\" fill=\"none\" stroke=\"#000000\"/>\n<polygon fill=\"#000000\" points=\"463.228,-315.6935 459.2821,-305.8609 456.2351,-316.0081 463.228,-315.6935\" stroke=\"#000000\"/>\n</g>\n<!-- T&#45;&gt;V -->\n<g class=\"edge\" id=\"edge78\">\n<title>T-&gt;V</title>\n<path d=\"M437.196,-402.1395C415.159,-406.0005 383.4156,-411.5621 358.8764,-415.8615\" fill=\"none\" stroke=\"#000000\"/>\n<polygon fill=\"#000000\" points=\"358.0959,-412.4449 348.85,-417.6182 359.304,-419.3399 358.0959,-412.4449\" stroke=\"#000000\"/>\n</g>\n<!-- T&#45;&gt;W -->\n<g class=\"edge\" id=\"edge81\">\n<title>T-&gt;W</title>\n<path d=\"M446.6505,-411.8458C425.3469,-430.0254 388.392,-461.5611 363.8574,-482.4979\" fill=\"none\" stroke=\"#000000\"/>\n<polygon fill=\"#000000\" points=\"361.3886,-480.0035 356.0537,-489.1572 365.9325,-485.3283 361.3886,-480.0035\" stroke=\"#000000\"/>\n</g>\n<!-- T&#45;&gt;M -->\n<g class=\"edge\" id=\"edge74\">\n<title>T-&gt;M</title>\n<path d=\"M453.9974,-380.6229C431.8142,-340.7189 376.1279,-240.5478 349.7446,-193.0884\" fill=\"none\" stroke=\"#000000\"/>\n<polygon fill=\"#000000\" points=\"352.7952,-191.3725 344.8773,-184.3328 346.6771,-194.7737 352.7952,-191.3725\" stroke=\"#000000\"/>\n</g>\n<!-- T&#45;&gt;A -->\n<g class=\"edge\" id=\"edge76\">\n<title>T-&gt;A</title>\n<path d=\"M436.3723,-398.8088C399.9155,-400.5099 334.8407,-403.5463 293.7977,-405.4614\" fill=\"none\" stroke=\"#000000\"/>\n<polygon fill=\"#000000\" points=\"293.4864,-401.972 283.6604,-405.9344 293.8127,-408.9644 293.4864,-401.972\" stroke=\"#000000\"/>\n</g>\n<!-- T&#45;&gt;I -->\n<g class=\"edge\" id=\"edge75\">\n<title>T-&gt;I</title>\n<path d=\"M453.7932,-380.6408C440.8047,-357.7972 417.5274,-316.8577 402.3008,-290.0776\" fill=\"none\" stroke=\"#000000\"/>\n<polygon fill=\"#000000\" points=\"405.2661,-288.2117 397.2808,-281.2485 399.1809,-291.6716 405.2661,-288.2117\" stroke=\"#000000\"/>\n</g>\n<!-- F&#45;&gt;W -->\n<g class=\"edge\" id=\"edge98\">\n<title>F-&gt;W</title>\n<path d=\"M207.8879,-371.9733C233.749,-397.8965 286.606,-450.8804 316.766,-481.1128\" fill=\"none\" stroke=\"#000000\"/>\n<polygon fill=\"#000000\" points=\"314.3741,-483.6709 323.9145,-488.2785 319.3298,-478.727 314.3741,-483.6709\" stroke=\"#000000\"/>\n</g>\n<!-- E&#45;&gt;K -->\n<g class=\"edge\" id=\"edge31\">\n<title>E-&gt;K</title>\n<path d=\"M272.6645,-214.0471C306.6266,-239.4716 380.2141,-294.5601 419.8101,-324.2021\" fill=\"none\" stroke=\"#000000\"/>\n<polygon fill=\"#000000\" points=\"418.0761,-327.2761 428.179,-330.4671 422.2711,-321.6723 418.0761,-327.2761\" stroke=\"#000000\"/>\n</g>\n<!-- E&#45;&gt;R -->\n<g class=\"edge\" id=\"edge38\">\n<title>E-&gt;R</title>\n<path d=\"M279.8906,-207.7408C326.5111,-216.3672 426.2753,-228.2456 480.7559,-231.8697\" fill=\"none\" stroke=\"#000000\"/>\n<polygon fill=\"#000000\" points=\"480.8286,-235.3801 491.0191,-232.481 481.2449,-228.3925 480.8286,-235.3801\" stroke=\"#000000\"/>\n</g>\n<!-- E&#45;&gt;U -->\n<g class=\"edge\" id=\"edge35\">\n<title>E-&gt;U</title>\n<path d=\"M281.7579,-200.3929C317.0944,-200.1904 379.0303,-199.8355 418.6844,-199.6083\" fill=\"none\" stroke=\"#000000\"/>\n<polygon fill=\"#000000\" points=\"418.7666,-203.108 428.7464,-199.5507 418.7265,-196.1081 418.7666,-203.108\" stroke=\"#000000\"/>\n</g>\n<!-- E&#45;&gt;D -->\n<g class=\"edge\" id=\"edge37\">\n<title>E-&gt;D</title>\n<path d=\"M259.7895,-218.3084C267.1398,-243.6232 280.6971,-290.315 289.365,-320.1673\" fill=\"none\" stroke=\"#000000\"/>\n<polygon fill=\"#000000\" points=\"286.0592,-321.3341 292.2088,-329.9615 292.7815,-319.3822 286.0592,-321.3341\" stroke=\"#000000\"/>\n</g>\n<!-- E&#45;&gt;N -->\n<g class=\"edge\" id=\"edge32\">\n<title>E-&gt;N</title>\n<path d=\"M245.6651,-217.9111C241.094,-226.7617 235.4394,-237.7102 230.3493,-247.5655\" fill=\"none\" stroke=\"#000000\"/>\n<polygon fill=\"#000000\" points=\"227.1751,-246.0843 225.6959,-256.5754 233.3945,-249.2966 227.1751,-246.0843\" stroke=\"#000000\"/>\n</g>\n<!-- E&#45;&gt;M -->\n<g class=\"edge\" id=\"edge33\">\n<title>E-&gt;M</title>\n<path d=\"M278.0098,-190.9557C285.7839,-187.7657 294.5873,-184.1532 302.9251,-180.7319\" fill=\"none\" stroke=\"#000000\"/>\n<polygon fill=\"#000000\" points=\"304.4867,-183.8744 312.4095,-176.8401 301.8293,-177.3984 304.4867,-183.8744\" stroke=\"#000000\"/>\n</g>\n<!-- E&#45;&gt;A -->\n<g class=\"edge\" id=\"edge36\">\n<title>E-&gt;A</title>\n<path d=\"M250.7923,-218.564C247.7783,-254.6249 248.2947,-335.9079 251.5398,-379.0549\" fill=\"none\" stroke=\"#000000\"/>\n<polygon fill=\"#000000\" points=\"248.0649,-379.4952 252.4231,-389.1521 255.0382,-378.885 248.0649,-379.4952\" stroke=\"#000000\"/>\n</g>\n<!-- E&#45;&gt;I -->\n<g class=\"edge\" id=\"edge34\">\n<title>E-&gt;I</title>\n<path d=\"M276.8727,-211.1783C298.5261,-221.5279 331.643,-237.3567 356.003,-249\" fill=\"none\" stroke=\"#000000\"/>\n<polygon fill=\"#000000\" points=\"354.662,-252.2383 365.1937,-253.3929 357.6807,-245.9226 354.662,-252.2383\" stroke=\"#000000\"/>\n</g>\n<!-- E&#45;&gt;F -->\n<g class=\"edge\" id=\"edge39\">\n<title>E-&gt;F</title>\n<path d=\"M247.6568,-218.1711C236.9363,-245.2536 216.3233,-297.3269 203.636,-329.378\" fill=\"none\" stroke=\"#000000\"/>\n<polygon fill=\"#000000\" points=\"200.2442,-328.4373 199.8179,-339.0235 206.7528,-331.0137 200.2442,-328.4373\" stroke=\"#000000\"/>\n</g>\n<!-- E&#45;&gt;L -->\n<g class=\"edge\" id=\"edge40\">\n<title>E-&gt;L</title>\n<path d=\"M281.4069,-197.3197C307.6166,-190.8299 347.4585,-178.0606 374.7925,-167.4931\" fill=\"none\" stroke=\"#000000\"/>\n<polygon fill=\"#000000\" points=\"376.2609,-170.6755 384.2486,-163.7151 373.6637,-164.1751 376.2609,-170.6755\" stroke=\"#000000\"/>\n</g>\n<!-- E&#45;&gt;X -->\n<g class=\"edge\" id=\"edge41\">\n<title>E-&gt;X</title>\n<path d=\"M248.2165,-183.0381C236.5054,-151.0775 211.592,-83.0867 197.6652,-45.0792\" fill=\"none\" stroke=\"#000000\"/>\n<polygon fill=\"#000000\" points=\"200.939,-43.8407 194.2121,-35.6554 194.3663,-46.2491 200.939,-43.8407\" stroke=\"#000000\"/>\n</g>\n<!-- Y -->\n<g class=\"node\" id=\"node25\">\n<title>Y</title>\n<ellipse cx=\"26.7883\" cy=\"-107.0193\" fill=\"none\" rx=\"27\" ry=\"18\" stroke=\"#000000\"/>\n<text fill=\"#000000\" font-family=\"Times,serif\" font-size=\"14.00\" text-anchor=\"middle\" x=\"26.7883\" y=\"-103.3193\">Y</text>\n</g>\n<!-- E&#45;&gt;Y -->\n<g class=\"edge\" id=\"edge42\">\n<title>E-&gt;Y</title>\n<path d=\"M231.5319,-191.0655C190.7621,-174.3297 105.9546,-139.5167 59.2977,-120.3642\" fill=\"none\" stroke=\"#000000\"/>\n<polygon fill=\"#000000\" points=\"60.5303,-117.0868 49.9503,-116.5272 57.8721,-123.5625 60.5303,-117.0868\" stroke=\"#000000\"/>\n</g>\n<!-- L&#45;&gt;C -->\n<g class=\"edge\" id=\"edge99\">\n<title>L-&gt;C</title>\n<path d=\"M428.3758,-161.1116C461.4268,-174.3542 521.9988,-198.6236 559.5646,-213.6751\" fill=\"none\" stroke=\"#000000\"/>\n<polygon fill=\"#000000\" points=\"558.4638,-217.0045 569.0482,-217.4749 561.0673,-210.5067 558.4638,-217.0045\" stroke=\"#000000\"/>\n</g>\n<!-- L&#45;&gt;R -->\n<g class=\"edge\" id=\"edge106\">\n<title>L-&gt;R</title>\n<path d=\"M423.7038,-164.899C442.0442,-177.8038 470.2188,-197.6282 491.0254,-212.2682\" fill=\"none\" stroke=\"#000000\"/>\n<polygon fill=\"#000000\" points=\"489.2487,-215.2977 499.4412,-218.1898 493.2769,-209.5728 489.2487,-215.2977\" stroke=\"#000000\"/>\n</g>\n<!-- L&#45;&gt;O -->\n<g class=\"edge\" id=\"edge100\">\n<title>L-&gt;O</title>\n<path d=\"M411.9005,-169.2483C421.0396,-192.4954 437.2738,-233.79 447.9541,-260.9574\" fill=\"none\" stroke=\"#000000\"/>\n<polygon fill=\"#000000\" points=\"444.6981,-262.2416 451.6143,-270.2676 451.2128,-259.6804 444.6981,-262.2416\" stroke=\"#000000\"/>\n</g>\n<!-- L&#45;&gt;N -->\n<g class=\"edge\" id=\"edge101\">\n<title>L-&gt;N</title>\n<path d=\"M385.5883,-164.3576C352.1959,-186.011 283.7978,-230.364 245.104,-255.4551\" fill=\"none\" stroke=\"#000000\"/>\n<polygon fill=\"#000000\" points=\"242.8901,-252.7192 236.404,-261.0966 246.6986,-258.5925 242.8901,-252.7192\" stroke=\"#000000\"/>\n</g>\n<!-- L&#45;&gt;M -->\n<g class=\"edge\" id=\"edge103\">\n<title>L-&gt;M</title>\n<path d=\"M379.1186,-157.5744C376.4579,-158.1722 373.7229,-158.7866 370.9817,-159.4024\" fill=\"none\" stroke=\"#000000\"/>\n<polygon fill=\"#000000\" points=\"370.1393,-156.0043 361.1496,-161.6112 371.6737,-162.8341 370.1393,-156.0043\" stroke=\"#000000\"/>\n</g>\n<!-- L&#45;&gt;H -->\n<g class=\"edge\" id=\"edge105\">\n<title>L-&gt;H</title>\n<path d=\"M430.737,-146.1644C441.3851,-143.8493 453.913,-141.1255 465.4179,-138.6242\" fill=\"none\" stroke=\"#000000\"/>\n<polygon fill=\"#000000\" points=\"466.1638,-142.0439 475.1919,-136.4992 464.6766,-135.2037 466.1638,-142.0439\" stroke=\"#000000\"/>\n</g>\n<!-- L&#45;&gt;E -->\n<g class=\"edge\" id=\"edge102\">\n<title>L-&gt;E</title>\n<path d=\"M378.2491,-154.9835C352.0394,-161.4734 312.1975,-174.2426 284.8635,-184.8101\" fill=\"none\" stroke=\"#000000\"/>\n<polygon fill=\"#000000\" points=\"283.3951,-181.6277 275.4074,-188.5881 285.9923,-188.1281 283.3951,-181.6277\" stroke=\"#000000\"/>\n</g>\n<!-- L&#45;&gt;Q -->\n<g class=\"edge\" id=\"edge104\">\n<title>L-&gt;Q</title>\n<path d=\"M414.5559,-168.6605C432.995,-201.3616 473.6593,-273.4778 495.6082,-312.4032\" fill=\"none\" stroke=\"#000000\"/>\n<polygon fill=\"#000000\" points=\"492.7998,-314.5486 500.7602,-321.5402 498.8973,-311.1104 492.7998,-314.5486\" stroke=\"#000000\"/>\n</g>\n<!-- Q&#45;&gt;I -->\n<g class=\"edge\" id=\"edge50\">\n<title>Q-&gt;I</title>\n<path d=\"M490.3372,-326.4091C470.1712,-314.1814 438.857,-295.1941 416.0806,-281.3836\" fill=\"none\" stroke=\"#000000\"/>\n<polygon fill=\"#000000\" points=\"417.8733,-278.3775 407.5077,-276.1854 414.2439,-284.3631 417.8733,-278.3775\" stroke=\"#000000\"/>\n</g>\n</g>\n</svg>"
          },
          "metadata": {}
        }
      ]
    },
    {
      "cell_type": "code",
      "source": [
        "cycleList=sorted(nx.simple_cycles(G))"
      ],
      "metadata": {
        "id": "CkK22muXKizo"
      },
      "execution_count": 52,
      "outputs": []
    },
    {
      "cell_type": "code",
      "source": [
        "checker=0\n",
        "for i in range(len(cycleList)):\n",
        "    if len(cycleList[checker])<len(cycleList[i]):\n",
        "        checker=i\n",
        "maxCycle=cycleList[checker]"
      ],
      "metadata": {
        "id": "34hHHK-VO2_t"
      },
      "execution_count": 53,
      "outputs": []
    },
    {
      "cell_type": "code",
      "source": [
        "maxCycle"
      ],
      "metadata": {
        "id": "FUIWbkanUE_T",
        "colab": {
          "base_uri": "https://localhost:8080/"
        },
        "outputId": "9ec90c5c-ce49-449f-8330-6f5abb6379f7"
      },
      "execution_count": 54,
      "outputs": [
        {
          "output_type": "execute_result",
          "data": {
            "text/plain": [
              "['Q',\n",
              " 'I',\n",
              " 'C',\n",
              " 'K',\n",
              " 'R',\n",
              " 'E',\n",
              " 'U',\n",
              " 'L',\n",
              " 'N',\n",
              " 'M',\n",
              " 'B',\n",
              " 'O',\n",
              " 'D',\n",
              " 'V',\n",
              " 'A',\n",
              " 'S',\n",
              " 'T',\n",
              " 'P']"
            ]
          },
          "metadata": {},
          "execution_count": 54
        }
      ]
    },
    {
      "cell_type": "code",
      "source": [
        "weightList=[]\n",
        "for i in range(len(maxCycle)):\n",
        "    target=sorted(G.edges(maxCycle[i],data=True))\n",
        "    if i!=len(maxCycle)-1:\n",
        "        for j in range(len(target)):\n",
        "            if target[j][1]==maxCycle[i+1]:\n",
        "                break\n",
        "        print(maxCycle[i],maxCycle[i+1],target[j][2][\"weight\"])\n",
        "        weightList.append(target[j][2][\"weight\"])\n",
        "    else:\n",
        "        for j in range(len(target)):\n",
        "            if target[j][1]==maxCycle[0]:\n",
        "                break\n",
        "        print(maxCycle[i],maxCycle[0],target[j][2][\"weight\"])\n",
        "        weightList.append(target[j][2][\"weight\"])"
      ],
      "metadata": {
        "id": "W_a9vzCuT773",
        "colab": {
          "base_uri": "https://localhost:8080/"
        },
        "outputId": "4ac49a0a-9ce6-49d7-a693-05584fb2e560"
      },
      "execution_count": 55,
      "outputs": [
        {
          "output_type": "stream",
          "name": "stdout",
          "text": [
            "Q I 6\n",
            "I C 10\n",
            "C K 55\n",
            "K R 94\n",
            "R E 122\n",
            "E U 49\n",
            "U L 35\n",
            "L N 89\n",
            "N M 11\n",
            "M B 93\n",
            "B O 50\n",
            "O D 104\n",
            "D V 98\n",
            "V A 31\n",
            "A S 8\n",
            "S T 62\n",
            "T P 17\n",
            "P Q 25\n"
          ]
        }
      ]
    },
    {
      "cell_type": "code",
      "source": [
        "list(itertools.permutations([1, 2, 3]))"
      ],
      "metadata": {
        "colab": {
          "base_uri": "https://localhost:8080/"
        },
        "id": "Gf3GGWxizPkT",
        "outputId": "147db5fb-3479-40b1-d8ca-42d3d53a7a6f"
      },
      "execution_count": 56,
      "outputs": [
        {
          "output_type": "execute_result",
          "data": {
            "text/plain": [
              "[(1, 2, 3), (1, 3, 2), (2, 1, 3), (2, 3, 1), (3, 1, 2), (3, 2, 1)]"
            ]
          },
          "metadata": {},
          "execution_count": 56
        }
      ]
    },
    {
      "cell_type": "code",
      "source": [
        "roterSetList=list(itertools.permutations([roter_1, roter_2, roter_3]))\n",
        "minWeight=min(weightList)\n",
        "relativeWeight = list(map(lambda x: x-minWeight, weightList))"
      ],
      "metadata": {
        "id": "CTi9S5ibMqcx"
      },
      "execution_count": 57,
      "outputs": []
    },
    {
      "cell_type": "code",
      "source": [
        "relativeWeight"
      ],
      "metadata": {
        "colab": {
          "base_uri": "https://localhost:8080/"
        },
        "id": "7X1VQ4q_2WDs",
        "outputId": "d0fea3a2-3ab6-4230-f02b-848e8601c302"
      },
      "execution_count": 58,
      "outputs": [
        {
          "output_type": "execute_result",
          "data": {
            "text/plain": [
              "[0, 4, 49, 88, 116, 43, 29, 83, 5, 87, 44, 98, 92, 25, 2, 56, 11, 19]"
            ]
          },
          "metadata": {},
          "execution_count": 58
        }
      ]
    },
    {
      "cell_type": "code",
      "source": [
        "def bombe(i):\n",
        "    bang=0\n",
        "    offset=26*27+1\n",
        "    cycleLength=len(maxCycle)\n",
        "    roter=roterSetList[i]\n",
        "    for h in tqdm.tqdm(range(17576)):\n",
        "        counter=offset+h\n",
        "        position=list(num2alpha(counter))\n",
        "        for j in range(17576):\n",
        "            bang=1\n",
        "            ring=list(num2alpha(offset+j))\n",
        "            for k in range(cycleLength):\n",
        "                if k!=cycleLength-1:\n",
        "                    if enigmaEncode(maxCycle[k],roter,position,ring,relativeWeight[k])!=maxCycle[k+1]:\n",
        "                        bang*=0\n",
        "                else:\n",
        "                    if enigmaEncode(maxCycle[k],roter,position,ring,relativeWeight[k])!=maxCycle[0]:\n",
        "                        bang*=0\n",
        "                if bang==0:\n",
        "                    break\n",
        "            if bang==1:\n",
        "                print(\"Bang!!!\",i,position,ring)\n",
        "                bang=0\n",
        "                return(i,position,ring)"
      ],
      "metadata": {
        "id": "_wH7JqtWSvMM"
      },
      "execution_count": 59,
      "outputs": []
    },
    {
      "cell_type": "code",
      "source": [
        "i,position,ring=bombe(2)"
      ],
      "metadata": {
        "colab": {
          "base_uri": "https://localhost:8080/"
        },
        "id": "lvLZtSL5rxXp",
        "outputId": "ac7cd0ac-5a85-4821-ff6b-0e7e07f5f593"
      },
      "execution_count": 60,
      "outputs": [
        {
          "output_type": "stream",
          "name": "stderr",
          "text": [
            " 58%|█████▊    | 10140/17576 [39:27<28:55,  4.28it/s]"
          ]
        },
        {
          "output_type": "stream",
          "name": "stdout",
          "text": [
            "Bang!!! 2 ['P', 'A', 'A'] ['Z', 'A', 'K']\n"
          ]
        },
        {
          "output_type": "stream",
          "name": "stderr",
          "text": [
            "\n"
          ]
        }
      ]
    },
    {
      "cell_type": "code",
      "source": [
        "enigmaEncode(enc,roterSetList[i],position,ring,-minWeight+1)"
      ],
      "metadata": {
        "id": "5YzDpAY2hIW-",
        "colab": {
          "base_uri": "https://localhost:8080/",
          "height": 35
        },
        "outputId": "ab4d56ba-73c7-4b72-e468-6447fd622f4c"
      },
      "execution_count": 61,
      "outputs": [
        {
          "output_type": "execute_result",
          "data": {
            "text/plain": [
              "'CONSEQUATINVIDUNTREBDMLUPTATUMVULPUTATESITLORENREBUMFACILISISSANCTUSLABOIESEALOREMTEMPORLOREMKASDDYLORDOLORSEDCONSECTETUER'"
            ],
            "application/vnd.google.colaboratory.intrinsic+json": {
              "type": "string"
            }
          },
          "metadata": {},
          "execution_count": 61
        }
      ]
    },
    {
      "cell_type": "code",
      "source": [],
      "metadata": {
        "id": "D5yDA9MS8e4F"
      },
      "execution_count": null,
      "outputs": []
    }
  ]
}